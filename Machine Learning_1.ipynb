{
 "cells": [
  {
   "cell_type": "markdown",
   "metadata": {},
   "source": [
    "##                                                                         HW 2 - Lisa Li"
   ]
  },
  {
   "cell_type": "markdown",
   "metadata": {},
   "source": [
    "## <FONT COLOR='grey'>LOAD PACKAGES TO WORK WITH</font> "
   ]
  },
  {
   "cell_type": "code",
   "execution_count": 208,
   "metadata": {},
   "outputs": [],
   "source": [
    "from sklearn.datasets import load_files\n",
    "import numpy as np\n",
    "#Because tf–idf actually makes use of the statistical properties of the training data, we\n",
    "# will use a pipeline\n",
    "import mglearn\n",
    "\n",
    "from sklearn.feature_extraction.text import CountVectorizer\n",
    "from sklearn.feature_extraction.text import TfidfVectorizer \n",
    "from sklearn.feature_extraction.text import ENGLISH_STOP_WORDS\n",
    "\n",
    "\n",
    "from sklearn.pipeline import make_pipeline\n",
    "from sklearn.model_selection import GridSearchCV\n",
    "from sklearn.model_selection import cross_val_score\n",
    "from sklearn.linear_model import LogisticRegression\n",
    "\n",
    "### prepare spacy tokenizer \n",
    "import re\n",
    "import spacy \n",
    "from html import unescape\n",
    "import matplotlib.pyplot as plt\n",
    "\n",
    "\n",
    "### for downloading tweets\n",
    "import re \n",
    "import tweepy \n",
    "from tweepy import OAuthHandler \n",
    "from textblob import TextBlob    \n",
    "\n",
    "#from custom_file import spacy_tokenizer\n",
    "#lemma_vect = TfidfVectorizer(tokenizer=spacy_tokenizer, min_df=5)\n",
    "#pipe = make_pipeline(lemma_vect, LogisticRegression())"
   ]
  },
  {
   "cell_type": "markdown",
   "metadata": {},
   "source": [
    "# <FONT COLOR='green'>PART 1: BUILD A SENTIMENT ANALYZER TO DISTINGUISH BETWEEN POSITIVE AND NEGATIVE TWEETS.</font> "
   ]
  },
  {
   "cell_type": "markdown",
   "metadata": {},
   "source": [
    "## <FONT COLOR='grey'>A) MACHINE LEARNING-BASED APPROACH</font> "
   ]
  },
  {
   "cell_type": "markdown",
   "metadata": {},
   "source": [
    "### <FONT COLOR='grey'>------  1. USE MOVIE-REVIEWS DATASET TO TRAIN YOUR MODEL</font> \n"
   ]
  },
  {
   "cell_type": "code",
   "execution_count": 140,
   "metadata": {},
   "outputs": [
    {
     "name": "stdout",
     "output_type": "stream",
     "text": [
      "length of text_train: 25000\n",
      "text_train[6]:\n",
      "b\"This movie has a special way of telling the story, at first i found it rather odd as it jumped through time and I had no idea whats happening.<br /><br />Anyway the story line was although simple, but still very real and touching. You met someone the first time, you fell in love completely, but broke up at last and promoted a deadly agony. Who hasn't go through this? but we will never forget this kind of pain in our life. <br /><br />I would say i am rather touched as two actor has shown great performance in showing the love between the characters. I just wish that the story could be a happy ending.\"\n",
      "Samples per class (training): [12500 12500]\n",
      "Number of documents in test data: 25000\n",
      "Samples per class (test): [12500 12500]\n"
     ]
    }
   ],
   "source": [
    "path = ''\n",
    "#H:\\\\UTHealth\\\\Teaching\\\\Fall 2018\\\\PH1978\\\\codes\\\\aclImdb\n",
    "reviews_train = load_files(\"C:\\\\Lisa\\\\fall2019\\\\YL\\\\train\")\n",
    "# load_files returns a bunch, containing training texts and training labels\n",
    "text_train, y_train = reviews_train.data, reviews_train.target #[0:1000]\n",
    "print(\"length of text_train: {}\".format(len(text_train)))\n",
    "print(\"text_train[6]:\\n{}\".format(text_train[6]))\n",
    "\n",
    "print(\"Samples per class (training): {}\".format(np.bincount(y_train)))\n",
    "\n",
    "reviews_test = load_files(\"C:\\\\Lisa\\\\fall2019\\\\YL\\\\test\")\n",
    "text_test, y_test = reviews_test.data, reviews_test.target\n",
    "\n",
    "print(\"Number of documents in test data: {}\".format(len(text_test)))\n",
    "print(\"Samples per class (test): {}\".format(np.bincount(y_test)))"
   ]
  },
  {
   "cell_type": "code",
   "execution_count": 141,
   "metadata": {},
   "outputs": [],
   "source": [
    "#remove HTML line breaks (<br />)\n",
    "text_train = [doc.replace(b\"<br />\", b\" \") for doc in text_train]\n",
    "text_test  = [doc.replace(b\"<br />\", b\" \") for doc in text_test]"
   ]
  },
  {
   "cell_type": "code",
   "execution_count": 209,
   "metadata": {},
   "outputs": [
    {
     "name": "stdout",
     "output_type": "stream",
     "text": [
      "b'Words can\\'t describe how bad this movie is. I can\\'t explain it by writing only. You have too see it for yourself to get at grip of how horrible a movie really can be. Not that I recommend you to do that. There are so many clich\\xc3\\xa9s, mistakes (and all other negative things you can imagine) here that will just make you cry. To start with the technical first, there are a LOT of mistakes regarding the airplane. I won\\'t list them here, but just mention the coloring of the plane. They didn\\'t even manage to show an airliner in the colors of a fictional airline, but instead used a 747 painted in the original Boeing livery. Very bad. The plot is stupid and has been done many times before, only much, much better. There are so many ridiculous moments here that i lost count of it really early. Also, I was on the bad guys\\' side all the time in the movie, because the good guys were so stupid. \"Executive Decision\" should without a doubt be you\\'re choice over this one, even the \"Turbulence\"-movies are better. In fact, every other movie in the world is better than this one.' 0\n"
     ]
    }
   ],
   "source": [
    "## LET'S TAKE A LOOK INTO THE DATA\n",
    "print(text_train[1], y_train[1])"
   ]
  },
  {
   "cell_type": "markdown",
   "metadata": {},
   "source": [
    "### <FONT COLOR='grey'>For the training on movie reviews, we used only the training data set of 25000 reviews. Two methods of words processing was used: </font>\n",
    "    1. Tfdif and removing all English stopwords\n",
    "    2. Employing the lemmatization from spacy. For this methods, removing English stopwords is more complicated as we need to lemmatize the stopword. Hence, only lemmatization is used for simplicity.\n",
    "    ##Notice that using lemmatization reduced the number of words in the vocabulary from 26900 to 20658! "
   ]
  },
  {
   "cell_type": "code",
   "execution_count": 143,
   "metadata": {},
   "outputs": [],
   "source": [
    "# regexp used in CountVectorizer:\n",
    "regexp = re.compile('(?u)\\\\b\\\\w\\\\w+\\\\b') \n",
    "#compile a regular expression pattern into a regular expression object\n",
    "\n",
    "# load spacy language model and save old tokenizer\n",
    "en_nlp = spacy.load('en_core_web_sm')\n",
    "old_tokenizer = en_nlp.tokenizer\n",
    "# replace the tokenizer with the preceding regexp\n",
    "en_nlp.tokenizer = lambda string: old_tokenizer.tokens_from_list(regexp.findall(string))\n",
    "\n",
    "# create a custom tokenizer using the SpaCy document processing pipeline\n",
    "# (now using our own tokenizer)\n",
    "def spacy_tokenizer(document):\n",
    "    doc_spacy = en_nlp(document, disable=['ner', 'parser', 'tagger'])    \n",
    "    return [token.lemma_ for token in doc_spacy]"
   ]
  },
  {
   "cell_type": "code",
   "execution_count": 151,
   "metadata": {},
   "outputs": [
    {
     "name": "stdout",
     "output_type": "stream",
     "text": [
      "X_train.shape: (25000, 26966)\n",
      "X_train_lemma.shape: (25000, 20658)\n"
     ]
    }
   ],
   "source": [
    "### TOKENIZING THE TRAINING DATASET IN TWO WAYS\n",
    "# define a count vectorizer with the custom tokenizer\n",
    "tfidf = TfidfVectorizer(min_df=5, stop_words=\"english\")\n",
    "X_train  = tfidf.fit_transform(text_train)\n",
    "print(\"X_train.shape: {}\".format(X_train.shape))\n",
    "\n",
    "#\n",
    "lemma_tfidf = TfidfVectorizer(tokenizer=spacy_tokenizer, min_df=5)\n",
    "X_train_lemma = lemma_tfidf.fit_transform(text_train)\n",
    "print(\"X_train_lemma.shape: {}\".format(X_train_lemma.shape))"
   ]
  },
  {
   "cell_type": "code",
   "execution_count": null,
   "metadata": {},
   "outputs": [],
   "source": []
  },
  {
   "cell_type": "markdown",
   "metadata": {},
   "source": [
    "### <FONT COLOR='grey'>For training, logistic regression was used with gridsearch to optimize the parameters on both preprocessed training datasets (with and without lemmatization). The results show that the best C values for both is 1, and 10, for which, we got the Best cross-validation score of 0.888 and 0.889, respectively. For this, we will choose the lemmatization methods to test on the tweets dataset </font>"
   ]
  },
  {
   "cell_type": "code",
   "execution_count": 145,
   "metadata": {},
   "outputs": [
    {
     "name": "stdout",
     "output_type": "stream",
     "text": [
      "Best cross-validation score for data without lemmatization: 0.89\n",
      "Best cross-validation score for data with lemmatization: 0.89\n"
     ]
    }
   ],
   "source": [
    "### DOING GRIDSEARCH WITH LEMMATIZED DATA\n",
    "param_grid = {'C': [0.001, 0.01, 0.1, 1, 10, 100]}\n",
    "grid = GridSearchCV(LogisticRegression(solver = 'lbfgs', max_iter  = 400), param_grid, cv=5, n_jobs=-1)\n",
    "grid.fit(X_train, y_train)\n",
    "print(\"Best cross-validation score for data without lemmatization: {:.2f}\".format(grid.best_score_))\n",
    "grid_lemma = GridSearchCV(LogisticRegression(solver = 'lbfgs', max_iter  = 400), param_grid, cv=5, n_jobs=-1)\n",
    "grid_lemma.fit(X_train_lemma, y_train)\n",
    "print(\"Best cross-validation score for data with lemmatization: {:.2f}\".format(grid_lemma.best_score_))"
   ]
  },
  {
   "cell_type": "code",
   "execution_count": 146,
   "metadata": {},
   "outputs": [
    {
     "name": "stdout",
     "output_type": "stream",
     "text": [
      "Best parameters for data without lemmatization:\n",
      "{'C': 1}\n",
      "Best parameters for data with lemmatization:\n",
      "{'C': 10}\n"
     ]
    }
   ],
   "source": [
    "print(\"Best parameters for data without lemmatization:\\n{}\".format(grid.best_params_))\n",
    "print(\"Best parameters for data with lemmatization:\\n{}\".format(grid_lemma.best_params_))"
   ]
  },
  {
   "cell_type": "code",
   "execution_count": 147,
   "metadata": {},
   "outputs": [
    {
     "data": {
      "text/plain": [
       "Text(0.5, 1.0, 'Gridsearch for data without lemmatization')"
      ]
     },
     "execution_count": 147,
     "metadata": {},
     "output_type": "execute_result"
    },
    {
     "data": {
      "image/png": "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\n",
      "text/plain": [
       "<Figure size 432x288 with 2 Axes>"
      ]
     },
     "metadata": {
      "needs_background": "light"
     },
     "output_type": "display_data"
    }
   ],
   "source": [
    "#lets visualize, heat map\n",
    "fig, ax = plt.subplots(2)\n",
    "#fig.tight_layout()\n",
    "# extract scores from grid_search\n",
    "scores = grid_lemma.cv_results_['mean_test_score'].reshape(6, -1).T\n",
    "heatmap = mglearn.tools.heatmap(scores, xlabel=\"C\", ylabel=\"\", cmap=\"viridis\", fmt=\"%.3f\",\n",
    "                                xticklabels=param_grid['C'], yticklabels='', ax = ax[1])\n",
    "ax[1].set_title('Gridsearch for data with lemmatization')\n",
    "scores = grid.cv_results_['mean_test_score'].reshape(6, -1).T\n",
    "heatmap = mglearn.tools.heatmap(scores, xlabel=\"C\", ylabel=\"\", cmap=\"viridis\", fmt=\"%.3f\",\n",
    "                                xticklabels=param_grid['C'], yticklabels='', ax = ax[0])\n",
    "ax[0].set_title('Gridsearch for data without lemmatization')"
   ]
  },
  {
   "cell_type": "code",
   "execution_count": 13,
   "metadata": {},
   "outputs": [
    {
     "data": {
      "image/png": "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\n",
      "text/plain": [
       "<Figure size 1080x360 with 1 Axes>"
      ]
     },
     "metadata": {
      "needs_background": "light"
     },
     "output_type": "display_data"
    },
    {
     "data": {
      "text/plain": [
       "<Figure size 1080x360 with 1 Axes>"
      ]
     },
     "metadata": {
      "needs_background": "light"
     },
     "output_type": "display_data"
    }
   ],
   "source": [
    "### EXPLORING FEATURE IMPORTANT IN EACH BEST MODEL FROM THE GRIDSEARCH\n",
    "fig , axs = plt.subplots(2)\n",
    "for ax, wordprocessing, gs, title in zip(axs, [tfidf, lemma_tfidf], [grid, grid_lemma], ['Without lemmatization', 'With lemmatization']):\n",
    "    feature_names = np.array(wordprocessing.get_feature_names())\n",
    "    mglearn.tools.visualize_coefficients(gs.best_estimator_.coef_, feature_names, n_top_features=20)\n",
    "    plt.title(title, color = 'blue')"
   ]
  },
  {
   "cell_type": "markdown",
   "metadata": {},
   "source": [
    "### <FONT COLOR='grey'>------  2. TEST ON TWEETS DATA</font> \n"
   ]
  },
  {
   "cell_type": "markdown",
   "metadata": {},
   "source": [
    "### <FONT COLOR='grey'>Preparing twitter access</font> "
   ]
  },
  {
   "cell_type": "code",
   "execution_count": 188,
   "metadata": {},
   "outputs": [],
   "source": [
    "# consumer_key = 'fill_in_yours'\n",
    "# consumer_secret = 'fill_in_yours'\n",
    "# access_token = 'fill_in_yours'\n",
    "# access_token_secret = 'fill_in_yours'\n",
    "# create OAuthHandler object \n",
    "auth = OAuthHandler(consumer_key, consumer_secret) \n",
    "# set access token and secret \n",
    "auth.set_access_token(access_token, access_token_secret) \n",
    "# create tweepy API object to fetch tweets \n",
    "api = tweepy.API(auth) \n"
   ]
  },
  {
   "cell_type": "markdown",
   "metadata": {},
   "source": [
    "### <FONT COLOR='grey'>Downloading tweets: As we wanted to test the model </font> "
   ]
  },
  {
   "cell_type": "code",
   "execution_count": 211,
   "metadata": {},
   "outputs": [
    {
     "name": "stdout",
     "output_type": "stream",
     "text": [
      "------------------------------------------------------------\n",
      "Downloading total of 3000 tweets for topic IMPEACHMENT\n",
      "------------------------------------------------------------\n",
      "Downloaded 100 tweets. Getting total of 91 tweets after removing those not in English\n",
      "Downloaded 200 tweets. Getting total of 184 tweets after removing those not in English\n",
      "Downloaded 300 tweets. Getting total of 275 tweets after removing those not in English\n",
      "Downloaded 400 tweets. Getting total of 366 tweets after removing those not in English\n",
      "Downloaded 500 tweets. Getting total of 453 tweets after removing those not in English\n",
      "Downloaded 600 tweets. Getting total of 546 tweets after removing those not in English\n",
      "Downloaded 700 tweets. Getting total of 634 tweets after removing those not in English\n",
      "Downloaded 800 tweets. Getting total of 724 tweets after removing those not in English\n",
      "Downloaded 900 tweets. Getting total of 819 tweets after removing those not in English\n",
      "Downloaded 1000 tweets. Getting total of 909 tweets after removing those not in English\n",
      "Downloaded 1100 tweets. Getting total of 1001 tweets after removing those not in English\n",
      "Downloaded 1200 tweets. Getting total of 1091 tweets after removing those not in English\n",
      "Downloaded 1300 tweets. Getting total of 1179 tweets after removing those not in English\n",
      "Downloaded 1400 tweets. Getting total of 1266 tweets after removing those not in English\n",
      "Downloaded 1500 tweets. Getting total of 1352 tweets after removing those not in English\n",
      "Downloaded 1600 tweets. Getting total of 1443 tweets after removing those not in English\n",
      "Downloaded 1700 tweets. Getting total of 1535 tweets after removing those not in English\n",
      "Downloaded 1800 tweets. Getting total of 1625 tweets after removing those not in English\n",
      "Downloaded 1900 tweets. Getting total of 1718 tweets after removing those not in English\n",
      "Downloaded 2000 tweets. Getting total of 1807 tweets after removing those not in English\n",
      "Downloaded 2100 tweets. Getting total of 1893 tweets after removing those not in English\n",
      "Downloaded 2200 tweets. Getting total of 1987 tweets after removing those not in English\n",
      "Downloaded 2300 tweets. Getting total of 2078 tweets after removing those not in English\n",
      "Downloaded 2400 tweets. Getting total of 2166 tweets after removing those not in English\n",
      "Downloaded 2500 tweets. Getting total of 2257 tweets after removing those not in English\n",
      "Downloaded 2600 tweets. Getting total of 2348 tweets after removing those not in English\n",
      "Downloaded 2700 tweets. Getting total of 2433 tweets after removing those not in English\n",
      "Downloaded 2800 tweets. Getting total of 2521 tweets after removing those not in English\n",
      "Downloaded 2900 tweets. Getting total of 2614 tweets after removing those not in English\n",
      "Downloaded 3000 tweets. Getting total of 2707 tweets after removing those not in English\n",
      "------------------------------------------------------------\n",
      "Downloading total of 3000 tweets for topic CYBERTRUCK\n",
      "------------------------------------------------------------\n",
      "Downloaded 100 tweets. Getting total of 60 tweets after removing those not in English\n",
      "Downloaded 200 tweets. Getting total of 112 tweets after removing those not in English\n",
      "Downloaded 300 tweets. Getting total of 173 tweets after removing those not in English\n",
      "Downloaded 400 tweets. Getting total of 240 tweets after removing those not in English\n",
      "Downloaded 500 tweets. Getting total of 304 tweets after removing those not in English\n",
      "Downloaded 600 tweets. Getting total of 374 tweets after removing those not in English\n",
      "Downloaded 700 tweets. Getting total of 440 tweets after removing those not in English\n",
      "Downloaded 800 tweets. Getting total of 516 tweets after removing those not in English\n",
      "Downloaded 900 tweets. Getting total of 590 tweets after removing those not in English\n",
      "Downloaded 1000 tweets. Getting total of 657 tweets after removing those not in English\n",
      "Downloaded 1100 tweets. Getting total of 730 tweets after removing those not in English\n",
      "Downloaded 1200 tweets. Getting total of 796 tweets after removing those not in English\n",
      "Downloaded 1300 tweets. Getting total of 871 tweets after removing those not in English\n",
      "Downloaded 1400 tweets. Getting total of 936 tweets after removing those not in English\n",
      "Downloaded 1500 tweets. Getting total of 1001 tweets after removing those not in English\n",
      "Downloaded 1600 tweets. Getting total of 1062 tweets after removing those not in English\n",
      "Downloaded 1700 tweets. Getting total of 1122 tweets after removing those not in English\n",
      "Downloaded 1800 tweets. Getting total of 1200 tweets after removing those not in English\n",
      "Downloaded 1900 tweets. Getting total of 1274 tweets after removing those not in English\n",
      "Downloaded 2000 tweets. Getting total of 1342 tweets after removing those not in English\n",
      "Downloaded 2100 tweets. Getting total of 1413 tweets after removing those not in English\n",
      "Downloaded 2200 tweets. Getting total of 1481 tweets after removing those not in English\n",
      "Downloaded 2300 tweets. Getting total of 1553 tweets after removing those not in English\n",
      "Downloaded 2400 tweets. Getting total of 1627 tweets after removing those not in English\n",
      "Downloaded 2500 tweets. Getting total of 1708 tweets after removing those not in English\n",
      "Downloaded 2600 tweets. Getting total of 1788 tweets after removing those not in English\n",
      "Downloaded 2700 tweets. Getting total of 1869 tweets after removing those not in English\n",
      "Downloaded 2800 tweets. Getting total of 1944 tweets after removing those not in English\n",
      "Downloaded 2900 tweets. Getting total of 2016 tweets after removing those not in English\n",
      "Downloaded 3000 tweets. Getting total of 2086 tweets after removing those not in English\n",
      "------------------------------------------------------------\n",
      "Downloading total of 3000 tweets for topic BLACKFRIDAY\n",
      "------------------------------------------------------------\n",
      "Downloaded 85 tweets. Getting total of 56 tweets after removing those not in English\n",
      "Downloaded 177 tweets. Getting total of 112 tweets after removing those not in English\n",
      "Downloaded 259 tweets. Getting total of 160 tweets after removing those not in English\n",
      "Downloaded 340 tweets. Getting total of 217 tweets after removing those not in English\n",
      "Downloaded 423 tweets. Getting total of 269 tweets after removing those not in English\n",
      "Downloaded 509 tweets. Getting total of 317 tweets after removing those not in English\n",
      "Downloaded 591 tweets. Getting total of 365 tweets after removing those not in English\n",
      "Downloaded 691 tweets. Getting total of 417 tweets after removing those not in English\n",
      "Downloaded 777 tweets. Getting total of 472 tweets after removing those not in English\n",
      "Downloaded 863 tweets. Getting total of 513 tweets after removing those not in English\n",
      "Downloaded 943 tweets. Getting total of 563 tweets after removing those not in English\n",
      "Downloaded 1030 tweets. Getting total of 620 tweets after removing those not in English\n",
      "Downloaded 1116 tweets. Getting total of 672 tweets after removing those not in English\n",
      "Downloaded 1209 tweets. Getting total of 719 tweets after removing those not in English\n",
      "Downloaded 1304 tweets. Getting total of 779 tweets after removing those not in English\n",
      "Downloaded 1396 tweets. Getting total of 826 tweets after removing those not in English\n",
      "Downloaded 1482 tweets. Getting total of 869 tweets after removing those not in English\n",
      "Downloaded 1568 tweets. Getting total of 914 tweets after removing those not in English\n",
      "Downloaded 1657 tweets. Getting total of 966 tweets after removing those not in English\n",
      "Downloaded 1748 tweets. Getting total of 1005 tweets after removing those not in English\n",
      "Downloaded 1835 tweets. Getting total of 1053 tweets after removing those not in English\n",
      "Downloaded 1926 tweets. Getting total of 1112 tweets after removing those not in English\n",
      "Downloaded 2021 tweets. Getting total of 1162 tweets after removing those not in English\n",
      "Downloaded 2113 tweets. Getting total of 1219 tweets after removing those not in English\n",
      "Downloaded 2204 tweets. Getting total of 1269 tweets after removing those not in English\n",
      "Downloaded 2293 tweets. Getting total of 1313 tweets after removing those not in English\n",
      "Downloaded 2390 tweets. Getting total of 1372 tweets after removing those not in English\n",
      "Downloaded 2483 tweets. Getting total of 1430 tweets after removing those not in English\n",
      "Downloaded 2577 tweets. Getting total of 1494 tweets after removing those not in English\n",
      "Downloaded 2670 tweets. Getting total of 1556 tweets after removing those not in English\n",
      "Downloaded 2770 tweets. Getting total of 1618 tweets after removing those not in English\n",
      "Downloaded 2863 tweets. Getting total of 1667 tweets after removing those not in English\n",
      "Downloaded 2958 tweets. Getting total of 1721 tweets after removing those not in English\n",
      "Downloaded 3047 tweets. Getting total of 1766 tweets after removing those not in English\n"
     ]
    }
   ],
   "source": [
    "tweet_topic_dictionary = {} #empty dictionary containing {topic:[list of tweet for topic]}\n",
    "### FILL IN THESE INFO:\n",
    "topics = ['impeachment', 'cybertruck', 'blackfriday']\n",
    "maxTweets = 3000\n",
    "\n",
    "\n",
    "for topic in topics:\n",
    "    tweet_for_topics = []\n",
    "    searchQuery = topic  # this is what we're searching for\n",
    "    maxTweets = maxTweets \n",
    "    tweetsPerQry = 100  # this is the max the API permits\n",
    "\n",
    "    # If results from a specific ID onwards are reqd, set since_id to that ID.\n",
    "    # else default to no lower limit, go as far back as API allows\n",
    "    sinceId = None\n",
    "\n",
    "    # If results only below a specific ID are, set max_id to that ID.\n",
    "    # else default to no upper limit, start from the most recent tweet matching the search query.\n",
    "    max_id = -1\n",
    "\n",
    "    tweetCount = 0\n",
    "    print(\"-\"*60 + \"\\nDownloading total of {0} tweets for topic {1}\\n\".format(maxTweets, str.upper(topic)) + 60*\"-\" )\n",
    "    \n",
    "    while tweetCount < maxTweets:\n",
    "        try:\n",
    "            if (max_id <= 0):\n",
    "                if (not sinceId):\n",
    "                    new_tweets = api.search(q=searchQuery, count=tweetsPerQry, languages=['en'], tweet_mode = 'extended')\n",
    "                    \n",
    "                else:\n",
    "                    new_tweets = api.search(q=searchQuery, count=tweetsPerQry,\n",
    "                                            since_id=sinceId, languages=['en'], tweet_mode = 'extended')\n",
    "            else:\n",
    "                if (not sinceId):\n",
    "                    new_tweets = api.search(q=searchQuery, count=tweetsPerQry,\n",
    "                                            max_id=str(max_id - 1), languages=['en'], tweet_mode = 'extended')\n",
    "                else:\n",
    "                    new_tweets = api.search(q=searchQuery, count=tweetsPerQry,\n",
    "                                            max_id=str(max_id - 1),\n",
    "                                            since_id=sinceId, languages=['en'], tweet_mode = 'extended')\n",
    "            if not new_tweets:\n",
    "                print(\"No more tweets found\")\n",
    "                break\n",
    "            for tweet in new_tweets:\n",
    "                # Downloading the full tweet and retweets\n",
    "                try: \n",
    "                    tweet_text = tweet.retweeted_status.full_text   \n",
    "                    #print(tweet_text)\n",
    "                    if tweet.lang == \"en\":    \n",
    "                        # clean tweet text by removing links, special characters using simple regex statements\n",
    "                        parsed_tweet = ' '.join(re.sub(\"(@[A-Za-z0-9]+)|([^0-9A-Za-z \\t])|(\\w+:\\/\\/\\S+)\", \" \", tweet_text).split())\n",
    "\n",
    "                        #print('parsed_tweet: ', parsed_tweet)\n",
    "                        tweet_for_topics.append(parsed_tweet) # The option to parse only twitt in English is not working directly\n",
    "                                                              # filter them out here instead (only append the twitt in English)\n",
    "                except:\n",
    "                    pass\n",
    "            tweetCount += len(new_tweets)\n",
    "            print(\"Downloaded {0} tweets. Getting total of {1} tweets after removing those not in English\".format(tweetCount, len(tweet_for_topics)))\n",
    "            max_id = new_tweets[-1].id\n",
    "        except tweepy.TweepError as e:\n",
    "            # Just exit if any error\n",
    "            print(\"some error : \" + str(e))\n",
    "            break\n",
    "    tweet_topic_dictionary[topic] = tweet_for_topics\n"
   ]
  },
  {
   "cell_type": "code",
   "execution_count": 212,
   "metadata": {},
   "outputs": [
    {
     "name": "stdout",
     "output_type": "stream",
     "text": [
      "Total number of tweets for all topics 6559\n",
      "-------------------\n",
      "Trump The whole impeachment thing is unfair I should be able to call evidence and present my own witnesses Nadler You have until Dec 6th to do exactly that Trump Wait what You weren t supposed to agree I can t do that This is a perjury trap\n",
      "-------------------\n",
      "I will be representing our Country in London at NATO while the Democrats are holding the most ridiculous Impeachment hearings in history Read the Transcripts NOTHING was done or said wrong The Radical Left is undercutting our Country Hearings scheduled on same dates as NATO\n",
      "-------------------\n",
      "Trump says he didn t direct Giuliani s Ukraine efforts Witnesses say otherwise Public testimony portrayed Giuliani as the driver behind Trump s pressure campaign to get Ukraine to investigate Joe and Hunter Biden\n",
      "-------------------\n",
      "Found out at Thanksgiving that my mom amp 2 other relatives all elderly won t vote for him again All lifelong Rep s The impeachment trial tipped them into totally making up their minds We need to keep fighting It s starting to work\n",
      "-------------------\n",
      "House Judiciary Top Republican Collins letter to Chair Nadler on Wed s impeachment inquiry hearing An equal distribution of experts for the Dec 4 hearing would be a small concession to demonstrate to the American people this impeachment inquiry is not merely political theater\n"
     ]
    }
   ],
   "source": [
    "X_test_from_twitter = tweet_topic_dictionary['impeachment'] + tweet_topic_dictionary['cybertruck'] + tweet_topic_dictionary['blackfriday']\n",
    "print('Total number of tweets for all topics {0}'.format(len(X_test_from_twitter)))\n",
    "for tweet in X_test_from_twitter[:5]: \n",
    "    print(\"-------------------\")\n",
    "    print(tweet)\n",
    "    "
   ]
  },
  {
   "cell_type": "markdown",
   "metadata": {},
   "source": [
    "### <FONT COLOR='grey'>Evaluate the model trained with movies data reviews on the 8000 downloaded tweets</font> "
   ]
  },
  {
   "cell_type": "code",
   "execution_count": 222,
   "metadata": {},
   "outputs": [],
   "source": [
    "X_test_lemma = lemma_tfidf.transform(X_test_from_twitter)\n",
    "y_test_lemma = grid_lemma.predict(X_test_lemma)"
   ]
  },
  {
   "cell_type": "code",
   "execution_count": 223,
   "metadata": {},
   "outputs": [],
   "source": [
    "### make prediction for \n",
    "X_test  = tfidf.transform(X_test_from_twitter)\n",
    "#print(X_test.shape)\n",
    "y_test = grid.predict(X_test)\n",
    "positive_tweets, negative_tweets = [], []\n",
    "for x, y in zip(X_test_from_twitter, y_test):\n",
    "    if y == 0:\n",
    "        negative_tweets.append(x)\n",
    "    else:\n",
    "        positive_tweets.append(x)"
   ]
  },
  {
   "cell_type": "markdown",
   "metadata": {},
   "source": [
    "### <FONT COLOR='grey'>Exploring the results</font> "
   ]
  },
  {
   "cell_type": "code",
   "execution_count": 224,
   "metadata": {},
   "outputs": [
    {
     "name": "stdout",
     "output_type": "stream",
     "text": [
      "Positive tweets percentage: 38.37475224881842 %\n",
      "Negative tweets percentage: 61.625247751181575 %\n",
      "\n",
      "\n",
      "Positive tweets:\n",
      "-------------------\n",
      "Nadler thinks he s SLICK plays with FIRE Every time DemoNazis try to trickwitness into implicating Trump they uncover more ObamaState corruption prove Trump innocent You have to own your ignorance before you can learn\n",
      "-------------------\n",
      "The first person who should testify in a Judiciary Committee hearing about impeachment is Chairman Adam Schiff He has A LOT to answer for\n",
      "-------------------\n",
      "It is a tribute to an awakened Republican Party that despite the most strenuous no holds barred efforts by the media Left not a single Republican in the House or the Senate seems willing to go along with impeachment United like this the GOP is unstoppable\n",
      "-------------------\n",
      "Congressman reacts to the latest in the battle with Democrats over the impeachment inquiry Check this out\n",
      "-------------------\n",
      "Trump did nothing impeachable day by day review of all impeachment hearing testimony shows\n",
      "-------------------\n",
      "It s time to Treat Yo self This year we re going all out with our special BlackFriday giveaway Win gaming mini PCs a i9 processor and games thanks to How to enter Easy click here and follow the instructions\n",
      "-------------------\n",
      "ad blackfriday amazon echoshow echo afflink as an Amazon associate I earn from qualifying purchases\n",
      "-------------------\n",
      "Rare Gold Players Pack SBC will be available for 2 hrs FUT20 BlackFriday\n",
      "\n",
      "\n",
      "Negative tweets:\n",
      "-------------------\n",
      "on Pres Trump s use of profanity to lash out against impeachment at a rally saying that if President Obama spoke that way Women would be fainting Children would be running and hiding under beds Grown men would be in tears\n",
      "-------------------\n",
      "I will be representing our Country in London at NATO while the Democrats are holding the most ridiculous Impeachment hearings in history Read the Transcripts NOTHING was done or said wrong The Radical Left is undercutting our Country Hearings scheduled on same dates as NATO\n",
      "-------------------\n",
      "Freshman swing district Democrat said she did not run to impeach President Donald Trump but VOTED for impeachment inquiry Any message for her about the BS sham impeachment deep state has initiated on our\n",
      "-------------------\n",
      "The least Chairman Nadler can do to show an ounce of fairness to the American people and indicate that Judiciary proceedings will be more than raw political theater is allow an equal distribution of witnesses for Wednesday s impeachment hearing\n",
      "-------------------\n",
      "Schiff s impeachment hearings wasting time when Congress must do real work\n",
      "-------------------\n",
      "Antivirus Deals McAfee Total Protection 3 Device Antivirus Software Internet Security 1 Year Subscription for 15 99 80 off deals PC geek tech blackfriday web gaming ransomware Windows10 laptop infosec\n",
      "-------------------\n",
      "Giving 10 000 to 3 people to celebrate BLACK FRIDAY and CYBER MONDAY Retweet FOLLOW NE Notifications MUST be on or you can t win Comment Money Ends in 24 hours BlackFriday2019 CyberMonday BlackFriday BlackFridaySale CyberMonday2019\n",
      "-------------------\n",
      "Happy BlackFriday I am still sending 350 13 500 to the first 300 people to like amp retweet this comment your cashapp google pay apple pay or paypal down below HOLIDAY SPECIAL RETWEET amp COMMENT\n"
     ]
    }
   ],
   "source": [
    "totaltweets = len(X_test_from_twitter)\n",
    "# percentage of positive tweets \n",
    "print(\"Positive tweets percentage: {} %\".format(len(positive_tweets)/totaltweets*100)) \n",
    "# percentage of negative tweets \n",
    "print(\"Negative tweets percentage: {} %\".format(len(negative_tweets)/totaltweets*100)) \n",
    "\n",
    "b = [14, 100, 400, 500, 620, -400,-109, -1]\n",
    "\n",
    "# printing first 5 positive tweets \n",
    "print(\"\\n\\nPositive tweets:\") \n",
    "c = [positive_tweets[i] for i in b]\n",
    "for tweet in c: \n",
    "    print(\"-------------------\")\n",
    "    print(tweet)  \n",
    "# printing first 5 negative tweets \n",
    "print(\"\\n\\nNegative tweets:\") \n",
    "c = [negative_tweets[i] for i in b]\n",
    "for tweet in c: \n",
    "    print(\"-------------------\")\n",
    "    print(tweet)"
   ]
  },
  {
   "cell_type": "markdown",
   "metadata": {},
   "source": [
    "## <FONT COLOR='grey'>B) KNOWLEDGE-BASED APPROACH USING TEXTBLOB (DEFAULT/ PATTERN ANALYZER)</font> \n"
   ]
  },
  {
   "cell_type": "code",
   "execution_count": 225,
   "metadata": {},
   "outputs": [
    {
     "name": "stdout",
     "output_type": "stream",
     "text": [
      "Positive tweets percentage: 43.7414239975606 %\n",
      "Negative tweets percentage: 18.02103979265132 %\n",
      "Neutral  tweets percentage: 38.237536209788075 %\n",
      "\n",
      "\n",
      "Positive tweets:\n",
      "-------------------\n",
      "Nadler thinks he s SLICK plays with FIRE Every time DemoNazis try to trickwitness into implicating Trump they uncover more ObamaState corruption prove Trump innocent You have to own your ignorance before you can learn\n",
      "-------------------\n",
      "Hey More often than not your dad only golfs and tweets The ONLY reason he went to Afghanistan was because of impeachment The only pattern here is he only does decent things for selfish reasons FUN FACT Obama visited troops in Iraq after 5 months\n",
      "-------------------\n",
      "I want to wish all of my family here on Twitter a Happy Thanksgiving with the safety of being with family and friends and the knowledge that when you go back to work Trump will have to provide a good excuse for withholding tax returns and The Impeachment Report is due\n",
      "-------------------\n",
      "Louie Gohmert Wants Three Witnesses at Nadler s Impeachment Hearings Schiff Staffers Abigail Grace and Sean Misko and the Whistleblower via\n",
      "-------------------\n",
      "Congressman reacts to the latest in the battle with Democrats over the impeachment inquiry Check this out\n",
      "-------------------\n",
      "SCOOP Walmart dodged tax on nearly 2 billion according to a whistleblower filing sent to the IRS and leaked to me Happy BlackFriday 1\n",
      "-------------------\n",
      "Giving 10 000 to 3 people to celebrate BLACK FRIDAY and CYBER MONDAY Retweet FOLLOW NE Notifications MUST be on or you can t win Comment Money Ends in 24 hours BlackFriday2019 CyberMonday BlackFriday BlackFridaySale CyberMonday2019\n",
      "-------------------\n",
      "Rare Gold Players Pack SBC will be available for 2 hrs FUT20 BlackFriday\n",
      "\n",
      "\n",
      "Negative tweets:\n",
      "-------------------\n",
      "I will be representing our Country in London at NATO while the Democrats are holding the most ridiculous Impeachment hearings in history Read the Transcripts NOTHING was done or said wrong The Radical Left is undercutting our Country Hearings scheduled on same dates as NATO\n",
      "-------------------\n",
      "President Trump now faces a critical choice whether to legitimize the impeachment inquiry proceedings by allowing his lawyers to participate or refuse to take part in an inquiry he says is a sham Analysis\n",
      "-------------------\n",
      "I will be representing our Country in London at NATO while the Democrats are holding the most ridiculous Impeachment hearings in history Read the Transcripts NOTHING was done or said wrong The Radical Left is undercutting our Country Hearings scheduled on same dates as NATO\n",
      "-------------------\n",
      "I will be representing our Country in London at NATO while the Democrats are holding the most ridiculous Impeachment hearings in history Read the Transcripts NOTHING was done or said wrong The Radical Left is undercutting our Country Hearings scheduled on same dates as NATO\n",
      "-------------------\n",
      "Sarah Huckabee Sanders falsely claims that all witnesses during the impeachment hearings admit not to witnessing anything\n",
      "-------------------\n",
      "With extreme effort Cybertruck might hit a 0 30 drag coefficient which would be insane for a truck Requires tweaking many small details\n",
      "-------------------\n",
      "only a few hours left to shop my blackfriday sales Get up to 40 off at and 20 off at sales end at 11 59pm tonight\n",
      "-------------------\n",
      "Are you Black Fridaying Coz when else are you gonna cop the things you ve been meaning to buy hii 2019 BlackFriday\n",
      "\n",
      "\n",
      "Neutral tweets:\n",
      "-------------------\n",
      "Trump did nothing impeachable day by day review of all impeachment hearing testimony shows\n",
      "-------------------\n",
      "Democrats are focused on impeachment instead of the needs of the country like passing the USMCA reforming our asylum laws and getting an infrastructure bill passed This is the work left undone This is the opportunity cost of impeachment\n",
      "-------------------\n",
      "These Dem Sens r running against Trump in 2020Elections Should these Sens recuse themselves from sitting as a juror at Senate Impeachment Trial\n",
      "-------------------\n",
      "DC Court of Appeals to Hear Two Impeachment Cases on Jan 3rd May Throw Off Democrats Shotgun Impeachment Plans via\n",
      "-------------------\n",
      "What the Senate does or doesn t do is immaterial We can t worry about them Since September 24 when Nancy Pelosi announced that she had opened an Official Impeachment Inquiry we have been on offense That means Trump has been and is on defense Our job is to keep it that way\n",
      "-------------------\n",
      "My brother has been working on a mashed potato cybertruck for over an hour\n",
      "-------------------\n",
      "GET 20 off ALL orders all weekend using the code BLACKFRIDAY\n",
      "-------------------\n",
      "Shop the KKW Fragrance Diamonds Trio Gift Set for only 45 get 20 30 off exclusions apply while supplies last for our BlackFriday sale at KKWFRAGRANCE\n"
     ]
    }
   ],
   "source": [
    "from textblob import TextBlob\n",
    "from textblob.classifiers import NaiveBayesClassifier\n",
    "from textblob.classifiers import DecisionTreeClassifier\n",
    "\n",
    "positive_from_textblob, negative_from_textblob, neutral_from_textblob = [], [] , [] \n",
    "\n",
    "for txt in X_test_from_twitter:\n",
    "    analysis1 = TextBlob(txt) \n",
    "    if analysis1.sentiment.polarity > 0:\n",
    "        positive_from_textblob.append(txt)\n",
    "    if analysis1.sentiment.polarity < 0:\n",
    "        negative_from_textblob.append(txt)\n",
    "    if analysis1.sentiment.polarity == 0:\n",
    "        neutral_from_textblob.append(txt)\n",
    "    \n",
    "totaltweets = len(X_test_from_twitter)\n",
    "# percentage of positive tweets \n",
    "print(\"Positive tweets percentage: {} %\".format(len(positive_from_textblob)/totaltweets*100)) \n",
    "# percentage of negative tweets \n",
    "print(\"Negative tweets percentage: {} %\".format(len(negative_from_textblob)/totaltweets*100)) \n",
    "# percentage of neutral tweets \n",
    "print(\"Neutral  tweets percentage: {} %\".format(len(neutral_from_textblob)/totaltweets*100)) \n",
    "\n",
    "\n",
    "b =  [14, 100, 400, 500, 620, -400,-109, -1]\n",
    "\n",
    "# printing first 5 positive tweets \n",
    "print(\"\\n\\nPositive tweets:\") \n",
    "c = [positive_from_textblob[i] for i in b]\n",
    "for tweet in c: \n",
    "    print(\"-------------------\")\n",
    "    print(tweet)  \n",
    "# printing first 5 negative tweets \n",
    "print(\"\\n\\nNegative tweets:\") \n",
    "c = [negative_from_textblob[i] for i in b]\n",
    "for tweet in c: \n",
    "    print(\"-------------------\")\n",
    "    print(tweet)\n",
    "# printing first 5 neutral tweets \n",
    "print(\"\\n\\nNeutral tweets:\") \n",
    "c = [neutral_from_textblob[i] for i in b]\n",
    "for tweet in c: \n",
    "    print(\"-------------------\")\n",
    "    print(tweet)\n"
   ]
  },
  {
   "cell_type": "markdown",
   "metadata": {},
   "source": [
    "### <FONT COLOR='green'>SOME COMMENTS: </font>\n",
    "    1. To analyze the sentiment analysis, in this hw, we do both supervised classification ML based and lexicon based methods (Textblob default analyser). In a machine learning based techniques, two sets of documents are needed: training and a test set. A training set is used by an automatic classifier to learn the differentiating characteristics of documents, and a test set is used to check how well the classifier performs. In our case, train set = movie reviews, test set = tweets. As the training set only has a bianry label, the ML model can only learn to distinguish between postive and negative sentiment based on knowledge extracted from the movie reviews. On the other hand, sentiment analysis using Textblob used a different algorithm to compute and average the positiveness of each input, providing positive, negative, and neutral sentiment (when the polarity is equal to 0), hence, it's not appropriate to compared the percentage of positive and negative tweets obtained from 2 approaches. \n",
    "    2. The performance of both methods do not that great. I think using models trained from other set of tweets might be ideal. The raw tweets have also emoticons which were important, but ignore for the simplicity of the homework. \n",
    "    The code provided in class was modified to get more relevant tweets by ignoring those without English language and extend to full tweets (instead of the default getting only 128 words). When I do this, the results seem to make more sense, especially for the topic modeling parts.). Still, the printed results do not make much sense, for ML-based approach specifically, some tweets are meant to be neutral (e.g: 'Giving 10 000 to 3 people to celebrate BLACK FRIDAY and CYBER MONDAY Retweet FOLLOW NE Notifications MUST be on or you can t win Comment Money Ends in 24 hours BlackFriday2019 CyberMonday BlackFriday BlackFridaySale CyberMonday2019'), however, as we don't have label for neutral, the model was forced to map outputs to either positive or negative sentiment. As time is limited, if I could do it again,  I would use the data including neutral reviews. SVC is famous for sentiment analysis model, i would try that instead of Logistic regression.   \n",
    "    3. Comments on some limitation: The main drawback of supervised ML is that it generally requires large expertannotated training corpora to be created from scratch. For this, other than movie reviews, most data don't have this expertannotated label. For lexicon based approach, the opinion words that are included in the dictionary are very important. If the dictionary contains less words or thorough, one risks the chance of over or under analyzing the results, leading to a decrease in performance. Another big challenge to this approach is that the polarity of many words is domain & context dependent. For example, ‘funny movie’ is positive in movie domain and ‘funny taste’ is negative in food domain. \n",
    "    4. Comment on advantage: Textblob is simplier to implement. TextBlob goes along finding words and phrases it can assign polarity and subjectivity to, and it averages them all together for longer text. ML-based approach is more flexible in term of which model to choose. Both methods, words preprocessing will be needed.       "
   ]
  },
  {
   "cell_type": "code",
   "execution_count": null,
   "metadata": {},
   "outputs": [],
   "source": []
  },
  {
   "cell_type": "code",
   "execution_count": null,
   "metadata": {},
   "outputs": [],
   "source": []
  },
  {
   "cell_type": "markdown",
   "metadata": {},
   "source": [
    "# <FONT COLOR='green'>PART 2: TOPIC MODELING AND DOCUMENT CLUSTERING ON TWEETS DATA</font> "
   ]
  },
  {
   "cell_type": "code",
   "execution_count": 161,
   "metadata": {},
   "outputs": [
    {
     "name": "stderr",
     "output_type": "stream",
     "text": [
      "C:\\Users\\Lisa Li\\Anaconda3\\lib\\site-packages\\sklearn\\decomposition\\online_lda.py:314: DeprecationWarning: n_topics has been renamed to n_components in version 0.19 and will be removed in 0.21\n",
      "  DeprecationWarning)\n"
     ]
    },
    {
     "name": "stdout",
     "output_type": "stream",
     "text": [
      "lda.components_.shape: (10, 5000)\n",
      "topic 0       topic 1       topic 2       topic 3       topic 4       \n",
      "--------      --------      --------      --------      --------      \n",
      "amp           year          day           sale          cop           \n",
      "tesla         tesla         did           code          friday        \n",
      "like          today         impeachable   tesla         black         \n",
      "black         thanksgiving  testimony     use           10            \n",
      "friday        usmca         hearing       free          cyber         \n",
      "cybermonday   signed        review        buy           people        \n",
      "sale          pelosi        shows         20            monday        \n",
      "win           man           according     friday        celebrate     \n",
      "elon          house         billion       shop          follow        \n",
      "deals         democrats     happy         checkout      giving        \n",
      "\n",
      "\n",
      "topic 5       topic 6       topic 7       topic 8       topic 9       \n",
      "--------      --------      --------      --------      --------      \n",
      "democrats     mashed        christmas     amp           work          \n",
      "country       working       weekend       new           time          \n",
      "london        hour          like          know          hearings      \n",
      "holding       brother       sales         just          schiff        \n",
      "nato          potato        shop          record        real          \n",
      "ridiculous    just          black         giving        congress      \n",
      "representing  committee     chi           12            wasting       \n",
      "like          elon          deal          win           past          \n",
      "doing         musk          thing         thanksgiving  republican    \n",
      "level         list          mars          love          media         \n",
      "\n",
      "\n"
     ]
    }
   ],
   "source": [
    "# ### Topic Modeling and Document Clustering\n",
    "######################################################\n",
    "\n",
    "# #### Latent Dirichlet Allocation (LDA)\n",
    "\n",
    "from sklearn.decomposition import LatentDirichletAllocation\n",
    "\n",
    "#remove very common words, as they might otherwise dominate the analysis\n",
    "#top max_features ordered by term frequency\n",
    "\n",
    "vect = CountVectorizer(max_features=5000, stop_words = 'english', max_df = 0.15) \n",
    "X = vect.fit_transform(X_test_from_twitter)\n",
    "feature_names = np.array(vect.get_feature_names())\n",
    "\n",
    "#tfidf = TfidfVectorizer(min_df=5, stop_words=\"english\")\n",
    "#X  = tfidf.fit_transform(X_test_from_twitter)\n",
    "#feature_names = np.array(tfidf.get_feature_names())\n",
    "\n",
    "#lemma_tfidf = TfidfVectorizer(tokenizer=spacy_tokenizer, min_df=5)\n",
    "#X = lemma_tfidf.fit_transform(X_test_from_twitter)\n",
    "#feature_names = np.array(lemma_tfidf.get_feature_names())\n",
    "\n",
    "\n",
    "#learn a topic model with 7 topics\n",
    "lda = LatentDirichletAllocation(n_topics=10\n",
    "                                , learning_method=\"batch\", \n",
    "                                max_iter=50, random_state=0)\n",
    "document_topics = lda.fit_transform(X)\n",
    "print(\"lda.components_.shape: {}\".format(lda.components_.shape))\n",
    "\n",
    "#look at the most important words for each of the topics\n",
    "# for each topic (a row in the components_), sort the features\n",
    "# invert rows with [:, ::-1] to make sorting descending\n",
    "sorting = np.argsort(lda.components_, axis=1)[:, ::-1]\n",
    "# get the feature names from the vectorizer:\n",
    "\n",
    "# Print out the 10 topics:\n",
    "mglearn.tools.print_topics(topics=range(10), feature_names=feature_names,\n",
    "                           sorting=sorting, topics_per_chunk=5, n_words=10)\n",
    "\n",
    "\n",
    "\n"
   ]
  },
  {
   "cell_type": "markdown",
   "metadata": {},
   "source": [
    "### <FONT COLOR='grey'>Topic 1, 3, 4, and 7 seems to be about thanksgiving and blackFriday which attached to Thanksgiving time. Topic 9 seems to be about political matters</font> "
   ]
  },
  {
   "cell_type": "code",
   "execution_count": 175,
   "metadata": {},
   "outputs": [
    {
     "name": "stdout",
     "output_type": "stream",
     "text": [
      "[5687 5664 6528 ... 7045 5732 6864]\n",
      "The Black Friday Sale Starts Today at Loomrack Up to 65 Off Sitewide Buy 1 Item Get 25 Off Use Code BF25OFF Buy 2 Items Get 50 Off Use Code BF50OFF Buy 3 Items Get 65 Off Use Code BF65OFF Shop BlackFriday sales loomrack\n",
      "Cybertruck is Grade 301 Delorean was grade 304 Grade 304 is still prone to corrosion and pitting Grade 301 is very prone to this as it has less chromium and more carbon making it better for rockets True stainless steel is grade 316 and above\n",
      "Bought a new computer on BlackFriday cuz my old one had a hardware problem and was to slow and I m gonna use photoshop and premiere pro now Gonna upload my yt video tomorrow too I m excited but I never have time for everything\n",
      "It s BlackFriday weekend and the deals are here Take advantage of these sales from Bluehost Check out these BlackFridayDeals blog sale CyberMonday bloggers selfhosted hosting WebHosting webshost BlackFridayWeek BlackFridaySale\n",
      "forever kissing forever matching is having a GIANT 50 off your order of 50 sale until DECEMBER 2 Just use the code BLACKFRIDAY and that s it This amazing company donates one headband for each\n"
     ]
    }
   ],
   "source": [
    "#let’s check which kinds of reviews are assigned to this topic\n",
    "sale = np.argsort(document_topics[:, 3])[::-1] #sort by weight of topic 4\n",
    "print(sale)\n",
    "# print the five documents where the topic is most important\n",
    "for i in music[:5]:\n",
    "    print(X_test_from_twitter[i])"
   ]
  },
  {
   "cell_type": "code",
   "execution_count": 186,
   "metadata": {},
   "outputs": [
    {
     "data": {
      "image/png": "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\n",
      "text/plain": [
       "<Figure size 720x720 with 2 Axes>"
      ]
     },
     "metadata": {
      "needs_background": "light"
     },
     "output_type": "display_data"
    }
   ],
   "source": [
    "\n",
    "fig, ax = plt.subplots(1, 2, figsize=(10, 10))\n",
    "topic_names = [\"{:>2} \".format(i) + \" \".join(words)\n",
    "               for i, words in enumerate(feature_names[sorting[:, :3]])]\n",
    "# two column bar chart:\n",
    "for col in [0, 1]:\n",
    "    start = col * 5\n",
    "    end = (col + 1) * 5\n",
    "    ax[col].barh(np.arange(5), np.sum(document_topics, axis=0)[start:end])\n",
    "    ax[col].set_yticks(np.arange(5))\n",
    "    ax[col].set_yticklabels(topic_names[start:end], ha=\"left\", va=\"top\")\n",
    "    ax[col].invert_yaxis()\n",
    "    ax[col].set_xlim(0, 2000)\n",
    "    yax = ax[col].get_yaxis()\n",
    "    yax.set_tick_params(pad=200)\n",
    "plt.tight_layout()"
   ]
  },
  {
   "cell_type": "markdown",
   "metadata": {},
   "source": [
    "### <FONT COLOR='green'>SOME COMMENTS: </font>\n",
    "    1. The original idea to download 100 tweets for each topic give me around 300 tweets, with most of tweet got truncated, and some of them are in other language, this is because BlackFriday is a common term used in other countries. The updated codes fixed those issues and some random words such as \"or\", \"le\", .. is no longer in the top 10 words for each topic. \n",
    "    2. When I do only 3 topic modeling, the topic seems random. Increasing the topic to 7 or 10, the results seems to cluster in a more sensible way. \n",
    "    3. As mentioned above, Topic 1, 3, 4, and 7 seems to be about thanksgiving and blackFriday. Topic 9 seems to be about political matters. \n",
    "    4. Another interesting way to inspect the topics is to see how much weight each topic gets overall, by summing the document_topics over all reviews, name each topic by the two most common words Topic weights learned by LDA. The name shown above makes sense to me. As the orignal topic I chose to filter tweets are in ['impeachment', 'cybertruck', 'blackfriday']. Cybertruck is highly associated with Tesla as the company just released this model of cybertruck that got controversial attention. \n",
    "    5. overall, this is a fun hw, but more time would be needed to explore and improve the performance. "
   ]
  },
  {
   "cell_type": "code",
   "execution_count": null,
   "metadata": {},
   "outputs": [],
   "source": [
    "\n"
   ]
  },
  {
   "cell_type": "code",
   "execution_count": null,
   "metadata": {},
   "outputs": [],
   "source": []
  },
  {
   "cell_type": "code",
   "execution_count": null,
   "metadata": {},
   "outputs": [],
   "source": []
  },
  {
   "cell_type": "code",
   "execution_count": null,
   "metadata": {},
   "outputs": [],
   "source": []
  },
  {
   "cell_type": "code",
   "execution_count": null,
   "metadata": {},
   "outputs": [],
   "source": []
  },
  {
   "cell_type": "code",
   "execution_count": null,
   "metadata": {},
   "outputs": [],
   "source": []
  },
  {
   "cell_type": "code",
   "execution_count": null,
   "metadata": {},
   "outputs": [],
   "source": []
  },
  {
   "cell_type": "code",
   "execution_count": null,
   "metadata": {},
   "outputs": [],
   "source": []
  },
  {
   "cell_type": "code",
   "execution_count": null,
   "metadata": {},
   "outputs": [],
   "source": []
  },
  {
   "cell_type": "code",
   "execution_count": null,
   "metadata": {},
   "outputs": [],
   "source": []
  },
  {
   "cell_type": "code",
   "execution_count": null,
   "metadata": {},
   "outputs": [],
   "source": []
  },
  {
   "cell_type": "code",
   "execution_count": null,
   "metadata": {},
   "outputs": [],
   "source": []
  },
  {
   "cell_type": "code",
   "execution_count": null,
   "metadata": {},
   "outputs": [],
   "source": []
  },
  {
   "cell_type": "code",
   "execution_count": null,
   "metadata": {},
   "outputs": [],
   "source": []
  },
  {
   "cell_type": "code",
   "execution_count": null,
   "metadata": {},
   "outputs": [],
   "source": []
  },
  {
   "cell_type": "code",
   "execution_count": null,
   "metadata": {},
   "outputs": [],
   "source": []
  },
  {
   "cell_type": "code",
   "execution_count": null,
   "metadata": {},
   "outputs": [],
   "source": []
  },
  {
   "cell_type": "code",
   "execution_count": null,
   "metadata": {},
   "outputs": [],
   "source": []
  },
  {
   "cell_type": "code",
   "execution_count": null,
   "metadata": {},
   "outputs": [],
   "source": []
  },
  {
   "cell_type": "code",
   "execution_count": null,
   "metadata": {},
   "outputs": [],
   "source": []
  },
  {
   "cell_type": "code",
   "execution_count": null,
   "metadata": {},
   "outputs": [],
   "source": []
  },
  {
   "cell_type": "code",
   "execution_count": null,
   "metadata": {},
   "outputs": [],
   "source": []
  },
  {
   "cell_type": "code",
   "execution_count": null,
   "metadata": {},
   "outputs": [],
   "source": []
  },
  {
   "cell_type": "code",
   "execution_count": null,
   "metadata": {},
   "outputs": [],
   "source": []
  },
  {
   "cell_type": "code",
   "execution_count": null,
   "metadata": {},
   "outputs": [],
   "source": []
  },
  {
   "cell_type": "code",
   "execution_count": null,
   "metadata": {},
   "outputs": [],
   "source": []
  },
  {
   "cell_type": "code",
   "execution_count": null,
   "metadata": {},
   "outputs": [],
   "source": []
  },
  {
   "cell_type": "code",
   "execution_count": null,
   "metadata": {},
   "outputs": [],
   "source": []
  },
  {
   "cell_type": "code",
   "execution_count": null,
   "metadata": {},
   "outputs": [],
   "source": []
  },
  {
   "cell_type": "code",
   "execution_count": null,
   "metadata": {},
   "outputs": [],
   "source": []
  },
  {
   "cell_type": "code",
   "execution_count": null,
   "metadata": {},
   "outputs": [],
   "source": []
  },
  {
   "cell_type": "code",
   "execution_count": null,
   "metadata": {},
   "outputs": [],
   "source": []
  },
  {
   "cell_type": "code",
   "execution_count": null,
   "metadata": {},
   "outputs": [],
   "source": []
  },
  {
   "cell_type": "code",
   "execution_count": null,
   "metadata": {},
   "outputs": [],
   "source": []
  },
  {
   "cell_type": "code",
   "execution_count": null,
   "metadata": {},
   "outputs": [],
   "source": []
  },
  {
   "cell_type": "code",
   "execution_count": null,
   "metadata": {},
   "outputs": [],
   "source": []
  },
  {
   "cell_type": "code",
   "execution_count": null,
   "metadata": {},
   "outputs": [],
   "source": []
  },
  {
   "cell_type": "code",
   "execution_count": null,
   "metadata": {},
   "outputs": [],
   "source": []
  },
  {
   "cell_type": "code",
   "execution_count": null,
   "metadata": {},
   "outputs": [],
   "source": []
  },
  {
   "cell_type": "code",
   "execution_count": null,
   "metadata": {},
   "outputs": [],
   "source": []
  },
  {
   "cell_type": "code",
   "execution_count": null,
   "metadata": {},
   "outputs": [],
   "source": []
  },
  {
   "cell_type": "code",
   "execution_count": null,
   "metadata": {},
   "outputs": [],
   "source": []
  },
  {
   "cell_type": "code",
   "execution_count": null,
   "metadata": {},
   "outputs": [],
   "source": []
  },
  {
   "cell_type": "code",
   "execution_count": null,
   "metadata": {},
   "outputs": [],
   "source": []
  },
  {
   "cell_type": "code",
   "execution_count": null,
   "metadata": {},
   "outputs": [],
   "source": []
  },
  {
   "cell_type": "code",
   "execution_count": 38,
   "metadata": {},
   "outputs": [],
   "source": [
    "#pipe = make_pipeline(lemma_tfidf, LogisticRegression())\n",
    "#param_grid = {'C': [0.001, 0.01, 0.1, 1, 10, 100]}#,\n",
    "#              \"tfidfvectorizer__ngram_range\": [(1, 1), (1, 2), (1, 3)]}\n",
    "\n"
   ]
  },
  {
   "cell_type": "code",
   "execution_count": 39,
   "metadata": {},
   "outputs": [],
   "source": []
  },
  {
   "cell_type": "code",
   "execution_count": 48,
   "metadata": {},
   "outputs": [],
   "source": []
  },
  {
   "cell_type": "code",
   "execution_count": 49,
   "metadata": {},
   "outputs": [],
   "source": []
  },
  {
   "cell_type": "code",
   "execution_count": 56,
   "metadata": {},
   "outputs": [
    {
     "name": "stdout",
     "output_type": "stream",
     "text": [
      "X_test_lemma.shape: (100, 523)\n"
     ]
    },
    {
     "data": {
      "text/plain": [
       "array([0, 0, 0, 1, 0, 0, 0, 0, 0, 0, 0, 0, 0, 0, 0, 0, 0, 0, 0, 0, 0, 1,\n",
       "       0, 0, 0, 0, 0, 1, 0, 1, 0, 0, 0, 0, 0, 0, 0, 0, 0, 0, 0, 0, 0, 0,\n",
       "       0, 0, 0, 0, 0, 0, 0, 0, 0, 0, 0, 0, 0, 0, 1, 0, 1, 0, 0, 1, 1, 0,\n",
       "       0, 0, 0, 0, 0, 1, 0, 0, 0, 1, 0, 0, 0, 0, 0, 0, 0, 0, 0, 0, 1, 0,\n",
       "       0, 0, 1, 0, 0, 0, 0, 0, 0, 0, 0, 0])"
      ]
     },
     "execution_count": 56,
     "metadata": {},
     "output_type": "execute_result"
    }
   ],
   "source": [
    "women = get_tweet(query='women', count = 100)\n",
    "\n",
    "X_test_lemma = lemma_vect.transform(women)\n",
    "print(\"X_test_lemma.shape: {}\".format(X_test_lemma.shape))\n",
    "grid.predict(X_test_lemma)"
   ]
  },
  {
   "cell_type": "code",
   "execution_count": 59,
   "metadata": {},
   "outputs": [
    {
     "ename": "AttributeError",
     "evalue": "'LogisticRegression' object has no attribute 'named_steps'",
     "output_type": "error",
     "traceback": [
      "\u001b[1;31m---------------------------------------------------------------------------\u001b[0m",
      "\u001b[1;31mAttributeError\u001b[0m                            Traceback (most recent call last)",
      "\u001b[1;32m<ipython-input-59-c07d8adcc0a5>\u001b[0m in \u001b[0;36m<module>\u001b[1;34m\u001b[0m\n\u001b[0;32m      1\u001b[0m \u001b[1;31m# inspect which words tf–idf found most important\u001b[0m\u001b[1;33m\u001b[0m\u001b[1;33m\u001b[0m\u001b[1;33m\u001b[0m\u001b[0m\n\u001b[1;32m----> 2\u001b[1;33m \u001b[0mvectorizer\u001b[0m \u001b[1;33m=\u001b[0m \u001b[0mgrid\u001b[0m\u001b[1;33m.\u001b[0m\u001b[0mbest_estimator_\u001b[0m\u001b[1;33m.\u001b[0m\u001b[0mnamed_steps\u001b[0m\u001b[1;33m[\u001b[0m\u001b[1;34m\"tfidfvectorizer\"\u001b[0m\u001b[1;33m]\u001b[0m\u001b[1;33m\u001b[0m\u001b[1;33m\u001b[0m\u001b[0m\n\u001b[0m\u001b[0;32m      3\u001b[0m \u001b[1;31m# transform the training dataset:\u001b[0m\u001b[1;33m\u001b[0m\u001b[1;33m\u001b[0m\u001b[1;33m\u001b[0m\u001b[0m\n\u001b[0;32m      4\u001b[0m \u001b[0mX_train\u001b[0m \u001b[1;33m=\u001b[0m \u001b[0mvectorizer\u001b[0m\u001b[1;33m.\u001b[0m\u001b[0mtransform\u001b[0m\u001b[1;33m(\u001b[0m\u001b[0mtext_train\u001b[0m\u001b[1;33m)\u001b[0m\u001b[1;33m\u001b[0m\u001b[1;33m\u001b[0m\u001b[0m\n\u001b[0;32m      5\u001b[0m \u001b[1;31m# find maximum value for each of the features over dataset:\u001b[0m\u001b[1;33m\u001b[0m\u001b[1;33m\u001b[0m\u001b[1;33m\u001b[0m\u001b[0m\n",
      "\u001b[1;31mAttributeError\u001b[0m: 'LogisticRegression' object has no attribute 'named_steps'"
     ]
    }
   ],
   "source": [
    "# inspect which words tf–idf found most important\n",
    "vectorizer = grid.best_estimator_.named_steps[\"tfidfvectorizer\"]\n",
    "# transform the training dataset:\n",
    "X_train = vectorizer.transform(text_train)\n",
    "# find maximum value for each of the features over dataset:\n",
    "max_value = X_train.max(axis=0).toarray().ravel()\n",
    "sorted_by_tfidf = max_value.argsort()\n",
    "# get feature names\n",
    "feature_names = np.array(vectorizer.get_feature_names())\n",
    "print(\"Features with lowest tfidf:\\n{}\".format(feature_names[sorted_by_tfidf[:20]]))\n",
    "#either are very commonly used across documents\n",
    "#or are only used sparingly, and only in very long documents\n",
    "print(\"Features with highest tfidf: \\n{}\".format(feature_names[sorted_by_tfidf[-20:]]))\n",
    "# words that have low inverse document frequency—\n",
    "# those that appear frequently and are therefore deemed less important\n",
    "sorted_by_idf = np.argsort(vectorizer.idf_)\n",
    "print(\"Features with lowest idf:\\n{}\".format(feature_names[sorted_by_idf[:100]]))\n",
    "\n",
    "#%%\n",
    "# #### Investigating model coefficients\n",
    "#Largest and smallest coefficients of logistic regression trained on tf-idf features\n",
    "import mglearn\n",
    "mglearn.tools.visualize_coefficients(\n",
    "    grid.best_estimator_.named_steps[\"logisticregression\"].coef_,\n",
    "    feature_names, n_top_features=40)"
   ]
  },
  {
   "cell_type": "code",
   "execution_count": null,
   "metadata": {},
   "outputs": [],
   "source": []
  },
  {
   "cell_type": "code",
   "execution_count": null,
   "metadata": {},
   "outputs": [],
   "source": []
  },
  {
   "cell_type": "code",
   "execution_count": null,
   "metadata": {},
   "outputs": [],
   "source": []
  },
  {
   "cell_type": "code",
   "execution_count": null,
   "metadata": {},
   "outputs": [],
   "source": []
  },
  {
   "cell_type": "code",
   "execution_count": null,
   "metadata": {},
   "outputs": [],
   "source": []
  },
  {
   "cell_type": "code",
   "execution_count": null,
   "metadata": {},
   "outputs": [],
   "source": []
  },
  {
   "cell_type": "code",
   "execution_count": 5,
   "metadata": {},
   "outputs": [
    {
     "name": "stdout",
     "output_type": "stream",
     "text": [
      "X_train with min_df: <25000x26966 sparse matrix of type '<class 'numpy.int64'>'\n",
      "\twith 2149958 stored elements in Compressed Sparse Row format>\n",
      "First 50 features:\n",
      "['00', '000', '007', '00s', '01', '02', '03', '04', '05', '06', '07', '08', '09', '10', '100', '1000', '100th', '101', '102', '103', '104', '105', '107', '108', '10s', '10th', '11', '110', '112', '116', '117', '11th', '12', '120', '12th', '13', '135', '13th', '14', '140', '14th', '15', '150', '15th', '16', '160', '1600', '16mm', '16s', '16th']\n"
     ]
    }
   ],
   "source": [
    "# # ### Representing text data as Bag of Words\n",
    "# #how many different words might appear in a movie review compared to all the\n",
    "# # words in the English language (which is what the vocabulary models)\n",
    "# # Negative: singular and plural, different forms of verbs and nouns related to same stem\n",
    "\n",
    "# vect = CountVectorizer(min_df=5, stop_words=\"english\").fit(text_train) #requiring at least five appearances of each token\n",
    "# X_train = vect.transform(text_train)\n",
    "# print(\"X_train with min_df: {}\".format(repr(X_train)))\n",
    "# #bring down the number of features to 27,271\n",
    "# feature_names = vect.get_feature_names()\n",
    "# print(\"First 50 features:\\n{}\".format(feature_names[:50]))"
   ]
  },
  {
   "cell_type": "code",
   "execution_count": 8,
   "metadata": {},
   "outputs": [
    {
     "name": "stderr",
     "output_type": "stream",
     "text": [
      "C:\\Users\\Lisa Li\\Anaconda3\\lib\\site-packages\\sklearn\\linear_model\\logistic.py:433: FutureWarning: Default solver will be changed to 'lbfgs' in 0.22. Specify a solver to silence this warning.\n",
      "  FutureWarning)\n"
     ]
    },
    {
     "name": "stdout",
     "output_type": "stream",
     "text": [
      "Best cross-validation score: 0.88\n"
     ]
    }
   ],
   "source": [
    "# grid search on TfidfVectorizer and LR\n",
    "\n",
    "#param_grid = {'C': [0.001, 0.01, 0.1, 1, 10]}\n",
    "pipe = make_pipeline(TfidfVectorizer(min_df=5), LogisticRegression())\n",
    "param_grid = {'logisticregression__C': [0.001, 0.01, 0.1, 1, 10, 100],\n",
    "              \"tfidfvectorizer__ngram_range\": [(1, 1), (1, 2), (1, 3)]}\n",
    "\n",
    "grid = GridSearchCV(pipe, param_grid, cv=5, n_jobs=-1)\n",
    "grid.fit(text_train, y_train)\n",
    "# grid = GridSearchCV(LogisticRegression(), param_grid, cv=5, n_jobs=-1)\n",
    "# grid.fit(X_train, y_train)\n",
    "print(\"Best cross-validation score: {:.2f}\".format(grid.best_score_))\n"
   ]
  },
  {
   "cell_type": "code",
   "execution_count": 20,
   "metadata": {},
   "outputs": [
    {
     "ename": "KeyboardInterrupt",
     "evalue": "",
     "output_type": "error",
     "traceback": [
      "\u001b[1;31m---------------------------------------------------------------------------\u001b[0m",
      "\u001b[1;31mKeyboardInterrupt\u001b[0m                         Traceback (most recent call last)",
      "\u001b[1;32m<ipython-input-20-e9604139dd8d>\u001b[0m in \u001b[0;36m<module>\u001b[1;34m\u001b[0m\n\u001b[0;32m     11\u001b[0m \u001b[1;33m\u001b[0m\u001b[0m\n\u001b[0;32m     12\u001b[0m \u001b[0mt\u001b[0m \u001b[1;33m=\u001b[0m \u001b[1;33m[\u001b[0m\u001b[1;34m'I am a student'\u001b[0m\u001b[1;33m]\u001b[0m\u001b[1;33m\u001b[0m\u001b[1;33m\u001b[0m\u001b[0m\n\u001b[1;32m---> 13\u001b[1;33m \u001b[0mX_train_lemma\u001b[0m \u001b[1;33m=\u001b[0m \u001b[0mlemma_tfidf\u001b[0m\u001b[1;33m.\u001b[0m\u001b[0mfit_transform\u001b[0m\u001b[1;33m(\u001b[0m\u001b[0mt\u001b[0m\u001b[1;33m)\u001b[0m\u001b[1;33m\u001b[0m\u001b[1;33m\u001b[0m\u001b[0m\n\u001b[0m\u001b[0;32m     14\u001b[0m \u001b[0mprint\u001b[0m\u001b[1;33m(\u001b[0m\u001b[1;34m\"X_train_lemma.shape: {}\"\u001b[0m\u001b[1;33m.\u001b[0m\u001b[0mformat\u001b[0m\u001b[1;33m(\u001b[0m\u001b[0mX_train_lemma\u001b[0m\u001b[1;33m.\u001b[0m\u001b[0mshape\u001b[0m\u001b[1;33m)\u001b[0m\u001b[1;33m)\u001b[0m\u001b[1;33m\u001b[0m\u001b[1;33m\u001b[0m\u001b[0m\n",
      "\u001b[1;32m~\\Anaconda3\\lib\\site-packages\\sklearn\\feature_extraction\\text.py\u001b[0m in \u001b[0;36mfit_transform\u001b[1;34m(self, raw_documents, y)\u001b[0m\n\u001b[0;32m   1611\u001b[0m         \"\"\"\n\u001b[0;32m   1612\u001b[0m         \u001b[0mself\u001b[0m\u001b[1;33m.\u001b[0m\u001b[0m_check_params\u001b[0m\u001b[1;33m(\u001b[0m\u001b[1;33m)\u001b[0m\u001b[1;33m\u001b[0m\u001b[1;33m\u001b[0m\u001b[0m\n\u001b[1;32m-> 1613\u001b[1;33m         \u001b[0mX\u001b[0m \u001b[1;33m=\u001b[0m \u001b[0msuper\u001b[0m\u001b[1;33m(\u001b[0m\u001b[0mTfidfVectorizer\u001b[0m\u001b[1;33m,\u001b[0m \u001b[0mself\u001b[0m\u001b[1;33m)\u001b[0m\u001b[1;33m.\u001b[0m\u001b[0mfit_transform\u001b[0m\u001b[1;33m(\u001b[0m\u001b[0mraw_documents\u001b[0m\u001b[1;33m)\u001b[0m\u001b[1;33m\u001b[0m\u001b[1;33m\u001b[0m\u001b[0m\n\u001b[0m\u001b[0;32m   1614\u001b[0m         \u001b[0mself\u001b[0m\u001b[1;33m.\u001b[0m\u001b[0m_tfidf\u001b[0m\u001b[1;33m.\u001b[0m\u001b[0mfit\u001b[0m\u001b[1;33m(\u001b[0m\u001b[0mX\u001b[0m\u001b[1;33m)\u001b[0m\u001b[1;33m\u001b[0m\u001b[1;33m\u001b[0m\u001b[0m\n\u001b[0;32m   1615\u001b[0m         \u001b[1;31m# X is already a transformed view of raw_documents so\u001b[0m\u001b[1;33m\u001b[0m\u001b[1;33m\u001b[0m\u001b[1;33m\u001b[0m\u001b[0m\n",
      "\u001b[1;32m~\\Anaconda3\\lib\\site-packages\\sklearn\\feature_extraction\\text.py\u001b[0m in \u001b[0;36mfit_transform\u001b[1;34m(self, raw_documents, y)\u001b[0m\n\u001b[0;32m   1029\u001b[0m \u001b[1;33m\u001b[0m\u001b[0m\n\u001b[0;32m   1030\u001b[0m         vocabulary, X = self._count_vocab(raw_documents,\n\u001b[1;32m-> 1031\u001b[1;33m                                           self.fixed_vocabulary_)\n\u001b[0m\u001b[0;32m   1032\u001b[0m \u001b[1;33m\u001b[0m\u001b[0m\n\u001b[0;32m   1033\u001b[0m         \u001b[1;32mif\u001b[0m \u001b[0mself\u001b[0m\u001b[1;33m.\u001b[0m\u001b[0mbinary\u001b[0m\u001b[1;33m:\u001b[0m\u001b[1;33m\u001b[0m\u001b[1;33m\u001b[0m\u001b[0m\n",
      "\u001b[1;32m~\\Anaconda3\\lib\\site-packages\\sklearn\\feature_extraction\\text.py\u001b[0m in \u001b[0;36m_count_vocab\u001b[1;34m(self, raw_documents, fixed_vocab)\u001b[0m\n\u001b[0;32m    933\u001b[0m             \u001b[0mvocabulary\u001b[0m\u001b[1;33m.\u001b[0m\u001b[0mdefault_factory\u001b[0m \u001b[1;33m=\u001b[0m \u001b[0mvocabulary\u001b[0m\u001b[1;33m.\u001b[0m\u001b[0m__len__\u001b[0m\u001b[1;33m\u001b[0m\u001b[1;33m\u001b[0m\u001b[0m\n\u001b[0;32m    934\u001b[0m \u001b[1;33m\u001b[0m\u001b[0m\n\u001b[1;32m--> 935\u001b[1;33m         \u001b[0manalyze\u001b[0m \u001b[1;33m=\u001b[0m \u001b[0mself\u001b[0m\u001b[1;33m.\u001b[0m\u001b[0mbuild_analyzer\u001b[0m\u001b[1;33m(\u001b[0m\u001b[1;33m)\u001b[0m\u001b[1;33m\u001b[0m\u001b[1;33m\u001b[0m\u001b[0m\n\u001b[0m\u001b[0;32m    936\u001b[0m         \u001b[0mj_indices\u001b[0m \u001b[1;33m=\u001b[0m \u001b[1;33m[\u001b[0m\u001b[1;33m]\u001b[0m\u001b[1;33m\u001b[0m\u001b[1;33m\u001b[0m\u001b[0m\n\u001b[0;32m    937\u001b[0m         \u001b[0mindptr\u001b[0m \u001b[1;33m=\u001b[0m \u001b[1;33m[\u001b[0m\u001b[1;33m]\u001b[0m\u001b[1;33m\u001b[0m\u001b[1;33m\u001b[0m\u001b[0m\n",
      "\u001b[1;32m~\\Anaconda3\\lib\\site-packages\\sklearn\\feature_extraction\\text.py\u001b[0m in \u001b[0;36mbuild_analyzer\u001b[1;34m(self)\u001b[0m\n\u001b[0;32m    325\u001b[0m             \u001b[0mtokenize\u001b[0m \u001b[1;33m=\u001b[0m \u001b[0mself\u001b[0m\u001b[1;33m.\u001b[0m\u001b[0mbuild_tokenizer\u001b[0m\u001b[1;33m(\u001b[0m\u001b[1;33m)\u001b[0m\u001b[1;33m\u001b[0m\u001b[1;33m\u001b[0m\u001b[0m\n\u001b[0;32m    326\u001b[0m             self._check_stop_words_consistency(stop_words, preprocess,\n\u001b[1;32m--> 327\u001b[1;33m                                                tokenize)\n\u001b[0m\u001b[0;32m    328\u001b[0m             return lambda doc: self._word_ngrams(\n\u001b[0;32m    329\u001b[0m                 tokenize(preprocess(self.decode(doc))), stop_words)\n",
      "\u001b[1;32m~\\Anaconda3\\lib\\site-packages\\sklearn\\feature_extraction\\text.py\u001b[0m in \u001b[0;36m_check_stop_words_consistency\u001b[1;34m(self, stop_words, preprocess, tokenize)\u001b[0m\n\u001b[0;32m    289\u001b[0m             \u001b[0minconsistent\u001b[0m \u001b[1;33m=\u001b[0m \u001b[0mset\u001b[0m\u001b[1;33m(\u001b[0m\u001b[1;33m)\u001b[0m\u001b[1;33m\u001b[0m\u001b[1;33m\u001b[0m\u001b[0m\n\u001b[0;32m    290\u001b[0m             \u001b[1;32mfor\u001b[0m \u001b[0mw\u001b[0m \u001b[1;32min\u001b[0m \u001b[0mstop_words\u001b[0m \u001b[1;32mor\u001b[0m \u001b[1;33m(\u001b[0m\u001b[1;33m)\u001b[0m\u001b[1;33m:\u001b[0m\u001b[1;33m\u001b[0m\u001b[1;33m\u001b[0m\u001b[0m\n\u001b[1;32m--> 291\u001b[1;33m                 \u001b[0mtokens\u001b[0m \u001b[1;33m=\u001b[0m \u001b[0mlist\u001b[0m\u001b[1;33m(\u001b[0m\u001b[0mtokenize\u001b[0m\u001b[1;33m(\u001b[0m\u001b[0mpreprocess\u001b[0m\u001b[1;33m(\u001b[0m\u001b[0mw\u001b[0m\u001b[1;33m)\u001b[0m\u001b[1;33m)\u001b[0m\u001b[1;33m)\u001b[0m\u001b[1;33m\u001b[0m\u001b[1;33m\u001b[0m\u001b[0m\n\u001b[0m\u001b[0;32m    292\u001b[0m                 \u001b[1;32mfor\u001b[0m \u001b[0mtoken\u001b[0m \u001b[1;32min\u001b[0m \u001b[0mtokens\u001b[0m\u001b[1;33m:\u001b[0m\u001b[1;33m\u001b[0m\u001b[1;33m\u001b[0m\u001b[0m\n\u001b[0;32m    293\u001b[0m                     \u001b[1;32mif\u001b[0m \u001b[0mtoken\u001b[0m \u001b[1;32mnot\u001b[0m \u001b[1;32min\u001b[0m \u001b[0mstop_words\u001b[0m\u001b[1;33m:\u001b[0m\u001b[1;33m\u001b[0m\u001b[1;33m\u001b[0m\u001b[0m\n",
      "\u001b[1;32m<ipython-input-20-e9604139dd8d>\u001b[0m in \u001b[0;36mcustom_tokenizer\u001b[1;34m(document)\u001b[0m\n\u001b[0;32m      2\u001b[0m \u001b[1;32mdef\u001b[0m \u001b[0mcustom_tokenizer\u001b[0m\u001b[1;33m(\u001b[0m\u001b[0mdocument\u001b[0m\u001b[1;33m)\u001b[0m\u001b[1;33m:\u001b[0m\u001b[1;33m\u001b[0m\u001b[1;33m\u001b[0m\u001b[0m\n\u001b[0;32m      3\u001b[0m     \u001b[1;32mimport\u001b[0m \u001b[0mspacy\u001b[0m\u001b[1;33m\u001b[0m\u001b[1;33m\u001b[0m\u001b[0m\n\u001b[1;32m----> 4\u001b[1;33m     \u001b[0men_nlp\u001b[0m \u001b[1;33m=\u001b[0m \u001b[0mspacy\u001b[0m\u001b[1;33m.\u001b[0m\u001b[0
      "\u001b[1;32m~\\Anaconda3\\lib\\site-packages\\spacy\\__init__.py\u001b[0m in \u001b[0;36mload\u001b[1;34m(name, **overrides)\u001b[0m\n\u001b[0;32m     28\u001b[0m     \u001b[1;32mif\u001b[0m \u001b[0mdepr_path\u001b[0m \u001b[1;32mnot\u001b[0m \u001b[1;32min\u001b[0m \u001b[1;33m(\u001b[0m\u001b[1;32mTrue\u001b[0m\u001b[1;33m,\u001b[0m \u001b[1;32mFalse\u001b[0m\u001b[1;33m,\u001b[0m \u001b[1;32mNone\u001b[0m\u001b[1;33m)\u001b[0m\u001b[1;33m:\u001b[0m\u001b[1;33m\u001b[0m\u001b[1;33m\u001b[0m\u001b[0m\n\u001b[0;32m     29\u001b[0m         \u001b[0mdeprecation_warning\u001b[0m\u001b[1;33m(\u001b[0m\u001b[0mWarnings\u001b[0m\u001b[1;33m.\u001b[0m\u001b[0mW001\u001b[0m\u001b[1;33m.\u001b[0m\u001b[0mformat\u001b[0m\u001b[1;33m(\u001b[0m\u001b[0mpath\u001b[0m\u001b[1;33m=\u001b[0m\u001b[0mdepr_path\u001b[0m\u001b[1;33m)\u001b[0m\u001b[1;33m)\u001b[0m\u001b[1;33m\u001b[0m\u001b[1;33m\u001b[0m\u001b[0m\n\u001b[1;32m---> 30\u001b[1;33m     \u001b[1;32mreturn\u001b[0m \u001b[0mutil\u001b[0m\u001b[1;33m.\u001b[0m\u001b[0mload_model\u001b[0m\u001b[1;33m(\u001b[0m\u001b[0mname\u001b[0m\u001b[1;33m,\u001b[0m \u001b[1;33m**\u001b[0m\u001b[0moverrides\u001b[0m\u001b[1;33m)\u001b[0m\u001b[1;33m\u001b[0m\u001b[1;33m\u001b[0m\u001b[0m\n\u001b[0m\u001b[0;32m     31\u001b[0m \u001b[1;33m\u001b[0m\u001b[0m\n\u001b[0;32m     32\u001b[0m \u001b[1;33m\u001b[0m\u001b[0m\n",
      "\u001b[1;32m~\\Anaconda3\\lib\\site-packages\\spacy\\util.py\u001b[0m in \u001b[0;36mload_model\u001b[1;34m(name, **overrides)\u001b[0m\n\u001b[0;32m    213\u001b[0m             \u001b[1;32mreturn\u001b[0m \u001b[0mload_model_from_link\u001b[0m\u001b[1;33m(\u001b[0m\u001b[0mname\u001b[0m\u001b[1;33m,\u001b[0m \u001b[1;33m**\u001b[0m\u001b[0moverrides\u001b[0m\u001b[1;33m)\u001b[0m\u001b[1;33m\u001b[0m\u001b[1;33m\u001b[0m\u001b[0m\n\u001b[0;32m    214\u001b[0m         \u001b[1;32mif\u001b[0m \u001b[0mis_package\u001b[0m\u001b[1;33m(\u001b[0m\u001b[0mname\u001b[0m\u001b[1;33m)\u001b[0m\u001b[1;33m:\u001b[0m  \u001b[1;31m# installed as package\u001b[0m\u001b[1;33m\u001b[0m\u001b[1;33m\u001b[0m\u001b[0m\n\u001b[1;32m--> 215\u001b[1;33m             \u001b[1;32mreturn\u001b[0m \u001b[0mload_model_from_package\u001b[0m\u001b[1;33m(\u001b[0m\u001b[0mname\u001b[0m\u001b[1;33m,\u001b[0m \u001b[1;33m**\u001b[0m\u001b[0moverrides\u001b[0m\u001b[1;33m)\u001b[0m\u001b[1;33m\u001b[0m\u001b[1;33m\u001b[0m\u001b[0m\n\u001b[0m\u001b[0;32m    216\u001b[0m         \u001b[1;32mif\u001b[0m \u001b[0mPath\u001b[0m\u001b[1;33m(\u001b[0m\u001b[0mname\u001b[0m\u001b[1;33m)\u001b[0m\u001b[1;33m.\u001b[0m\u001b[0mexists\u001b[0m\u001b[1;33m(\u001b[0m\u001b[1;33m)\u001b[0m\u001b[1;33m:\u001b[0m  \u001b[1;31m# path to model data directory\u001b[0m\u001b[1;33m\u001b[0m\u001b[1;33m\u001b[0m\u001b[0m\n\u001b[0;32m    217\u001b[0m             \u001b[1;32mreturn\u001b[0m \u001b[0mload_model_from_path\u001b[0m\u001b[1;33m(\u001b[0m\u001b[0mPath\u001b[0m\u001b[1;33m(\u001b[0m\u001b[0mname\u001b[0m\u001b[1;33m)\u001b[0m\u001b[1;33m,\u001b[0m \u001b[1;33m**\u001b[0m\u001b[0moverrides\u001b[0m\u001b[1;33m)\u001b[0m\u001b[1;33m\u001b[0m\u001b[1;33m\u001b[0m\u001b[0m\n",
      "\u001b[1;32m~\\Anaconda3\\lib\\site-packages\\spacy\\util.py\u001b[0m in \u001b[0;36mload_model_from_package\u001b[1;34m(name, **overrides)\u001b[0m\n\u001b[0;32m    234\u001b[0m     \u001b[1;34m\"\"\"Load a model from an installed package.\"\"\"\u001b[0m\u001b[1;33m\u001b[0m\u001b[1;33m\u001b[0m\u001b[0m\n\u001b[0;32m    235\u001b[0m     \u001b[0mcls\u001b[0m \u001b[1;33m=\u001b[0m \u001b[0mimportlib\u001b[0m\u001b[1;33m.\u001b[0m\u001b[0mimport_module\u001b[0m\u001b[1;33m(\u001b[0m\u001b[0mname\u001b[0m\u001b[1;33m)\u001b[0m\u001b[1;33m\u001b[0m\u001b[1;33m\u001b[0m\u001b[0m\n\u001b[1;32m--> 236\u001b[1;33m     \u001b[1;32mreturn\u001b[0m \u001b[0mcls\u001b[0m\u001b[1;33m.\u001b[0m\u001b[0mload\u001b[0m\u001b[1;33m(\u001b[0m\u001b[1;33m**\u001b[0m\u001b[0moverrides\u001b[0m\u001b[1;33m)\u001b[0m\u001b[1;33m\u001b[0m\u001b[1;33m\u001b[0m\u001b[0m\n\u001b[0m\u001b[0;32m    237\u001b[0m \u001b[1;33m\u001b[0m\u001b[0m\n\u001b[0;32m    238\u001b[0m \u001b[1;33m\u001b[0m\u001b[0m\n",
      "\u001b[1;32m~\\Anaconda3\\lib\\site-packages\\en_core_web_sm\\__init__.py\u001b[0m in \u001b[0;36mload\u001b[1;34m(**overrides)\u001b[0m\n\u001b[0;32m     10\u001b[0m \u001b[1;33m\u001b[0m\u001b[0m\n\u001b[0;32m     11\u001b[0m \u001b[1;32mdef\u001b[0m \u001b[0mload\u001b[0m\u001b[1;33m(\u001b[0m\u001b[1;33m**\u001b[0m\u001b[0moverrides\u001b[0m\u001b[1;33m)\u001b[0m\u001b[1;33m:\u001b[0m\u001b[1;33m\u001b[0m\u001b[1;33m\u001b[0m\u001b[0m\n\u001b[1;32m---> 12\u001b[1;33m     \u001b[1;32mreturn\u001b[0m \u001b[0mload_model_from_init_py\u001b[0m\u001b[1;33m(\u001b[0m\u001b[0m__file__\u001b[0m\u001b[1;33m,\u001b[0m \u001b[1;33m**\u001b[0m\u001b[0moverrides\u001b[0m\u001b[1;33m)\u001b[0m\u001b[1;33m\u001b[0m\u001b[1;33m\u001b[0m\u001b[0m\n\u001b[0m",
      "\u001b[1;32m~\\Anaconda3\\lib\\site-packages\\spacy\\util.py\u001b[0m in \u001b[0;36mload_model_from_init_py\u001b[1;34m(init_file, **overrides)\u001b[0m\n\u001b[0;32m    277\u001b[0m     \u001b[1;32mif\u001b[0m \u001b[1;32mnot\u001b[0m \u001b[0mmodel_path\u001b[0m\u001b[1;33m.\u001b[0m\u001b[0mexists\u001b[0m\u001b[1;33m(\u001b[0m\u001b[1;33m)\u001b[0m\u001b[1;33m:\u001b[0m\u001b[1;33m\u001b[0m\u001b[1;33m\u001b[0m\u001b[0m\n\u001b[0;32m    278\u001b[0m         \u001b[1;32mraise\u001b[0m \u001b[0mIOError\u001b[0m\u001b[1;33m(\u001b[0m\u001b[0mErrors\u001b[0m\u001b[1;33m.\u001b[0m\u001b[0mE052\u001b[0m\u001b[1;33m.\u001b[0m\u001b[0mformat\u001b[0m\u001b[1;33m(\u001b[0m\u001b[0mpath\u001b[0m\u001b[1;33m=\u001b[0m\u001b[0mpath2str\u001b[0m\u001b[1;33m(\u001b[0m\u001b[0mdata_path\u001b[0m\u001b[1;33m)\u001b[0m\u001b[1;33m)\u001b[0m\u001b[1;33m)\u001b[0m\u001b[1;33m\u001b[0m\u001b[1;33m\u001b[0m\u001b[0m\n\u001b[1;32m--> 279\u001b[1;33m     \u001b[1;32mreturn\u001b[0m \u001b[0mload_model_from_path\u001b[0m\u001b[1;33m(\u001b[0m\u001b[0mdata_path\u001b[0m\u001b[1;33m,\u001b[0m \u001b[0mmeta\u001b[0m\u001b[1;33m,\u001b[0m \u001b[1;33m**\u001b[0m\u001b[0moverrides\u001b[0m\u001b[1;33m)\u001b[0m\u001b[1;33m\u001b[0m\u001b[1;33m\u001b[0m\u001b[0m\n\u001b[0m\u001b[0;32m    280\u001b[0m \u001b[1;33m\u001b[0m\u001b[0m\n\u001b[0;32m    281\u001b[0m \u001b[1;33m\u001b[0m\u001b[0m\n",
      "\u001b[1;32m~\\Anaconda3\\lib\\site-packages\\spacy\\util.py\u001b[0m in \u001b[0;36mload_model_from_path\u001b[1;34m(model_path, meta, **overrides)\u001b[0m\n\u001b[0;32m    246\u001b[0m     \u001b[0mlang\u001b[0m \u001b[1;33m=\u001b[0m \u001b[0mmeta\u001b[0m\u001b[1;33m.\u001b[0m\u001b[0mget\u001b[0m\u001b[1;33m(\u001b[0m\u001b[1;34m\"lang_factory\"\u001b[0m\u001b[1;33m,\u001b[0m \u001b[0mmeta\u001b[0m\u001b[1;33m[\u001b[0m\u001b[1;34m\"lang\"\u001b[0m\u001b[1;33m]\u001b[0m\u001b[1;33m)\u001b[0m\u001b[1;33m\u001b[0m\u001b[1;33m\u001b[0m\u001b[0m\n\u001b[0;32m    247\u001b[0m     \u001b[0mcls\u001b[0m \u001b[1;33m=\u001b[0m \u001b[0mget_lang_class\u001b[0m\u001b[1;33m(\u001b[0m\u001b[0mlang\u001b[0m\u001b[1;33m)\u001b[0m\u001b[1;33m\u001b[0m\u001b[1;33m\u001b[0m\u001b[0m\n\u001b[1;32m--> 248\u001b[1;33m     \u001b[0mnlp\u001b[0m \u001b[1;33m=\u001b[0m \u001b[0mcls\u001b[0m\u001b[1;33m(\u001b[0m\u001b[0mmeta\u001b[0m\u001b[1;33m=\u001b[0m\u001b[0mmeta\u001b[0m\u001b[1;33m,\u001b[0m \u001b[1;33m**\u001b[0m\u001b[0moverrides\u001b[0m\u001b[1;33m)\u001b[0m\u001b[1;33m\u001b[0m\u001b[1;33m\u001b[0m\u001b[0m\n\u001b[0m\u001b[0;32m    249\u001b[0m     \u001b[0mpipeline\u001b[0m \u001b[1;33m=\u001b[0m \u001b[0mmeta\u001b[0m\u001b[1;33m.\u001b[0m\u001b[0mget\u001b[0m\u001b[1;33m(\u001b[0m\u001b[1;34m\"pipeline\"\u001b[0m\u001b[1;33m,\u001b[0m \u001b[1;33m[\u001b[0m\u001b[1;33m]\u001b[0m\u001b[1;33m)\u001b[0m\u001b[1;33m\u001b[0m\u001b[1;33m\u001b[0m\u001b[0m\n\u001b[0;32m    250\u001b[0m     \u001b[0mfactories\u001b[0m \u001b[1;33m=\u001b[0m \u001b[0mmeta\u001b[0m\u001b[1;33m.\u001b[0m\u001b[0mget\u001b[0m\u001b[1;33m(\u001b[0m\u001b[1;34m\"factories\"\u001b[0m\u001b[1;33m,\u001b[0m \u001b[1;33m{\u001b[0m\u001b[1;33m}\u001b[0m\u001b[1;33m)\u001b[0m\u001b[1;33m\u001b[0m\u001b[1;33m\u001b[0m\u001b[0m\n",
      "\u001b[1;32m~\\Anaconda3\\lib\\site-packages\\spacy\\language.py\u001b[0m in \u001b[0;36m__init__\u001b[1;34m(self, vocab, make_doc, max_length, meta, **kwargs)\u001b[0m\n\u001b[0;32m    171\u001b[0m         \u001b[1;32mif\u001b[0m \u001b[0mmake_doc\u001b[0m \u001b[1;32mis\u001b[0m \u001b[1;32mTrue\u001b[0m\u001b[1;33m:\u001b[0m\u001b[1;33m\u001b[0m\u001b[1;33m\u001b[0m\u001b[0m\n\u001b[0;32m    172\u001b[0m             \u001b[0mfactory\u001b[0m \u001b[1;33m=\u001b[0m \u001b[0mself\u001b[0m\u001b[1;33m.\u001b[0m\u001b[0mDefaults\u001b[0m\u001b[1;33m.\u001b[0m\u001b[0mcreate_tokenizer\u001b[0m\u001b[1;33m\u001b[0m\u001b[1;33m\u001b[0m\u001b[0m\n\u001b[1;32m--> 173\u001b[1;33m             \u001b[0mmake_doc\u001b[0m \u001b[1;33m=\u001b[0m \u001b[0mfactory\u001b[0m\u001b[1;33m(\u001b[0m\u001b[0mself\u001b[0m\u001b[1;33m,\u001b[0m \u001b[1;33m**\u001b[0m\u001b[0mmeta\u001b[0m\u001b[1;33m.\u001b[0m\u001b[0mget\u001b[0m\u001b[1;33m(\u001b[0m\u001b[1;34m\"tokenizer\"\u001b[0m\u001b[1;33m,\u001b[0m \u001b[1;33m{\u001b[0m\u001b[1;33m}\u001b[0m\u001b[1;33m)\u001b[0m\u001b[1;33m)\u001b[0m\u001b[1;33m\u001b[0m\u001b[1;33m\u001b[0m\u001b[0m\n\u001b[0m\u001b[0;32m    174\u001b[0m         \u001b[0mself\u001b[0m\u001b[1;33m.\u001b[0m\u001b[0mtokenizer\u001b[0m \u001b[1;33m=\u001b[0m \u001b[0mmake_doc\u001b[0m\u001b[1;33m\u001b[0m\u001b[1;33m\u001b[0m\u001b[0m\n\u001b[0;32m    175\u001b[0m         \u001b[0mself\u001b[0m\u001b[1;33m.\u001b[0m\u001b[0mpipeline\u001b[0m \u001b[1;33m=\u001b[0m \u001b[1;33m[\u001b[0m\u001b[1;33m]\u001b[0m\u001b[1;33m\u001b[0m\u001b[1;33m\u001b[0m\u001b[0m\n",
      "\u001b[1;32m~\\Anaconda3\\lib\\site-packages\\spacy\\language.py\u001b[0m in \u001b[0;36mcreate_tokenizer\u001b[1;34m(cls, nlp)\u001b[0m\n\u001b[0;32m     98\u001b[0m             \u001b[0msuffix_search\u001b[0m\u001b[1;33m=\u001b[0m\u001b[0msuffix_search\u001b[0m\u001b[1;33m,\u001b[0m\u001b[1;33m\u001b[0m\u001b[1;33m\u001b[0m\u001b[0m\n\u001b[0;32m     99\u001b[0m             \u001b[0minfix_finditer\u001b[0m\u001b[1;33m=\u001b[0m\u001b[0minfix_finditer\u001b[0m\u001b[1;33m,\u001b[0m\u001b[1;33m\u001b[0m\u001b[1;33m\u001b[0m\u001b[0m\n\u001b[1;32m--> 100\u001b[1;33m             \u001b[0mtoken_match\u001b[0m\u001b[1;33m=\u001b[0m\u001b[0mtoken_match\u001b[0m\u001b[1;33m,\u001b[0m\u001b[1;33m\u001b[0m\u001b[1;33m\u001b[0m\u001b[0m\n\u001b[0m\u001b[0;32m    101\u001b[0m         )\n\u001b[0;32m    102\u001b[0m \u001b[1;33m\u001b[0m\u001b[0m\n",
      "\u001b[1;32mtokenizer.pyx\u001b[0m in \u001b[0;36mspacy.tokenizer.Tokenizer.__init__\u001b[1;34m()\u001b[0m\n",
      "\u001b[1;32mtokenizer.pyx\u001b[0m in \u001b[0;36mspacy.tokenizer.Tokenizer.add_special_case\u001b[1;34m()\u001b[0m\n",
      "\u001b[1;32mvocab.pyx\u001b[0m in \u001b[0;36mspacy.vocab.Vocab.make_fused_token\u001b[1;34m()\u001b[0m\n",
      "\u001b[1;32mvocab.pyx\u001b[0m in \u001b[0;36mspacy.vocab.Vocab.get_by_orth\u001b[1;34m()\u001b[0m\n",
      "\u001b[1;32mvocab.pyx\u001b[0m in \u001b[0;36mspacy.vocab.Vocab._new_lexeme\u001b[1;34m()\u001b[0m\n",
      "\u001b[1;32m~\\Anaconda3\\lib\\site-packages\\spacy\\lang\\lex_attrs.py\u001b[0m in \u001b[0;36mword_shape\u001b[1;34m(text)\u001b[0m\n\u001b[0;32m    171\u001b[0m             \u001b[0mlast\u001b[0m \u001b[1;33m=\u001b[0m \u001b[0mshape_char\u001b[0m\u001b[1;33m\u001b[0m\u001b[1;33m\u001b[0m\u001b[0m\n\u001b[0;32m    172\u001b[0m         \u001b[1;32mif\u001b[0m \u001b[0mseq\u001b[0m \u001b[1;33m<\u001b[0m \u001b[1;36m4\u001b[0m\u001b[1;33m:\u001b[0m\u001b[1;33m\u001b[0m\u001b[1;33m\u001b[0m\u001b[0m\n\u001b[1;32m--> 173\u001b[1;33m             \u001b[0mshape\u001b[0m\u001b[1;33m.\u001b[0m\u001b[0mappend\u001b[0m\u001b[1;33m(\u001b[0m\u001b[0mshape_char\u001b[0m\u001b[1;33m)\u001b[0m\u001b[1;33m\u001b[0m\u001b[1;33m\u001b[0m\u001b[0m\n\u001b[0m\u001b[0;32m    174\u001b[0m     \u001b[1;32mreturn\u001b[0m \u001b[1;34m\"\"\u001b[0m\u001b[1;33m.\u001b[0m\u001b[0mjoin\u001b[0m\u001b[1;33m(\u001b[0m\u001b[0mshape\u001b[0m\u001b[1;33m)\u001b[0m\u001b[1;33m\u001b[0m\u001b[1;33m\u001b[0m\u001b[0m\n\u001b[0;32m    175\u001b[0m \u001b[1;33m\u001b[0m\u001b[0m\n",
      "\u001b[1;31mKeyboardInterrupt\u001b[0m: "
     ]
    }
   ],
   "source": [
    "### override the default tokenizer using spacy package\n",
    "def custom_tokenizer(document):\n",
    "    import spacy \n",
    "    en_nlp = spacy.load('en_core_web_sm')\n",
    "    doc_spacy = en_nlp(document)\n",
    "    return [token.lemma_ for token in doc_spacy]\n",
    "\n",
    "# define a count vectorizer with the custom tokenizer\n",
    "#lemma_vect = CountVectorizer(tokenizer=custom_tokenizer, min_df=5, stop_words=\"english\")\n",
    "lemma_tfidf = TfidfVectorizer(tokenizer = custom_tokenizer, min_df=5, stop_words=\"english\")\n",
    "\n",
    "t = ['I am a student']\n",
    "X_train_lemma = lemma_tfidf.fit_transform(t)\n",
    "print(\"X_train_lemma.shape: {}\".format(X_train_lemma.shape))"
   ]
  },
  {
   "cell_type": "code",
   "execution_count": 8,
   "metadata": {},
   "outputs": [
    {
     "ename": "TypeError",
     "evalue": "__call__() got an unexpected keyword argument 'entity'",
     "output_type": "error",
     "traceback": [
      "\u001b[1;31m---------------------------------------------------------------------------\u001b[0m",
      "\u001b[1;31mTypeError\u001b[0m                                 Traceback (most recent call last)",
      "\u001b[1;32m<ipython-input-8-0e4f11c41b6c>\u001b[0m in \u001b[0;36m<module>\u001b[1;34m\u001b[0m\n\u001b[0;32m      1\u001b[0m \u001b[1;31m# transform text_train using CountVectorizer with lemmatization\u001b[0m\u001b[1;33m\u001b[0m\u001b[1;33m\u001b[0m\u001b[1;33m\u001b[0m\u001b[0m\n\u001b[1;32m----> 2\u001b[1;33m \u001b[0mX_train_lemma\u001b[0m \u001b[1;33m=\u001b[0m \u001b[0mlemma_vect\u001b[0m\u001b[1;33m.\u001b[0m\u001b[0mfit_transform\u001b[0m\u001b[1;33m(\u001b[0m\u001b[0mtext_train\u001b[0m\u001b[1;33m)\u001b[0m\u001b[1;33m\u001b[0m\u001b[1;33m\u001b[0m\u001b[0m\n\u001b[0m\u001b[0;32m      3\u001b[0m \u001b[0mprint\u001b[0m\u001b[1;33m(\u001b[0m\u001b[1;34m\"X_train_lemma.shape: {}\"\u001b[0m\u001b[1;33m.\u001b[0m\u001b[0mformat\u001b[0m\u001b[1;33m(\u001b[0m\u001b[0mX_train_lemma\u001b[0m\u001b[1;33m.\u001b[0m\u001b[0mshape\u001b[0m\u001b[1;33m)\u001b[0m\u001b[1;33m)\u001b[0m\u001b[1;33m\u001b[0m\u001b[1;33m\u001b[0m\u001b[0m\n\u001b[0;32m      4\u001b[0m \u001b[1;33m\u001b[0m\u001b[0m\n\u001b[0;32m      5\u001b[0m \u001b[1;31m# standard CountVectorizer for reference\u001b[0m\u001b[1;33m\u001b[0m\u001b[1;33m\u001b[0m\u001b[1;33m\u001b[0m\u001b[0m\n",
      "\u001b[1;32m~\\Anaconda3\\lib\\site-packages\\sklearn\\feature_extraction\\text.py\u001b[0m in \u001b[0;36mfit_transform\u001b[1;34m(self, raw_documents, y)\u001b[0m\n\u001b[0;32m   1029\u001b[0m \u001b[1;33m\u001b[0m\u001b[0m\n\u001b[0;32m   1030\u001b[0m         vocabulary, X = self._count_vocab(raw_documents,\n\u001b[1;32m-> 1031\u001b[1;33m                                           self.fixed_vocabulary_)\n\u001b[0m\u001b[0;32m   1032\u001b[0m \u001b[1;33m\u001b[0m\u001b[0m\n\u001b[0;32m   1033\u001b[0m         \u001b[1;32mif\u001b[0m \u001b[0mself\u001b[0m\u001b[1;33m.\u001b[0m\u001b[0mbinary\u001b[0m\u001b[1;33m:\u001b[0m\u001b[1;33m\u001b[0m\u001b[1;33m\u001b[0m\u001b[0m\n",
      "\u001b[1;32m~\\Anaconda3\\lib\\site-packages\\sklearn\\feature_extraction\\text.py\u001b[0m in \u001b[0;36m_count_vocab\u001b[1;34m(self, raw_documents, fixed_vocab)\u001b[0m\n\u001b[0;32m    941\u001b[0m         \u001b[1;32mfor\u001b[0m \u001b[0mdoc\u001b[0m \u001b[1;32min\u001b[0m \u001b[0mraw_documents\u001b[0m\u001b[1;33m:\u001b[0m\u001b[1;33m\u001b[0m\u001b[1;33m\u001b[0m\u001b[0m\n\u001b[0;32m    942\u001b[0m             \u001b[0mfeature_counter\u001b[0m \u001b[1;33m=\u001b[0m \u001b[1;33m{\u001b[0m\u001b[1;33m}\u001b[0m\u001b[1;33m\u001b[0m\u001b[1;33m\u001b[0m\u001b[0m\n\u001b[1;32m--> 943\u001b[1;33m             \u001b[1;32mfor\u001b[0m \u001b[0mfeature\u001b[0m \u001b[1;32min\u001b[0m \u001b[0manalyze\u001b[0m\u001b[1;33m(\u001b[0m\u001b[0mdoc\u001b[0m\u001b[1;33m)\u001b[0m\u001b[1;33m:\u001b[0m\u001b[1;33m\u001b[0m\u001b[1;33m\u001b[0m\u001b[0m\n\u001b[0m\u001b[0;32m    944\u001b[0m                 \u001b[1;32mtry\u001b[0m\u001b[1;33m:\u001b[0m\u001b[1;33m\u001b[0m\u001b[1;33m\u001b[0m\u001b[0m\n\u001b[0;32m    945\u001b[0m                     \u001b[0mfeature_idx\u001b[0m \u001b[1;33m=\u001b[0m \u001b[0mvocabulary\u001b[0m\u001b[1;33m[\u001b[0m\u001b[0mfeature\u001b[0m\u001b[1;33m]\u001b[0m\u001b[1;33m\u001b[0m\u001b[1;33m\u001b[0m\u001b[0m\n",
      "\u001b[1;32m~\\Anaconda3\\lib\\site-packages\\sklearn\\feature_extraction\\text.py\u001b[0m in \u001b[0;36m<lambda>\u001b[1;34m(doc)\u001b[0m\n\u001b[0;32m    327\u001b[0m                                                tokenize)\n\u001b[0;32m    328\u001b[0m             return lambda doc: self._word_ngrams(\n\u001b[1;32m--> 329\u001b[1;33m                 tokenize(preprocess(self.decode(doc))), stop_words)\n\u001b[0m\u001b[0;32m    330\u001b[0m \u001b[1;33m\u001b[0m\u001b[0m\n\u001b[0;32m    331\u001b[0m         \u001b[1;32melse\u001b[0m\u001b[1;33m:\u001b[0m\u001b[1;33m\u001b[0m\u001b[1;33m\u001b[0m\u001b[0m\n",
      "\u001b[1;32m<ipython-input-7-b8ec7360dd1d>\u001b[0m in \u001b[0;36mcustom_tokenizer\u001b[1;34m(document)\u001b[0m\n\u001b[0;32m      3\u001b[0m     \u001b[1;32mimport\u001b[0m \u001b[0mspacy\u001b[0m\u001b[1;33m\u001b[0m\u001b[1;33m\u001b[0m\u001b[0m\n\u001b[0;32m      4\u001b[0m     \u001b[0men_nlp\u001b[0m \u001b[1;33m=\u001b[0m \u001b[0mspacy\u001b[0m\u001b[1;33m.\u001b[0m\u001b[0mload\u001b[0m\u001b[1;33m(\u001b[0m\u001b[1;34m'en_core_web_sm'\u001b[0m\u001b[1;33m)\u001b[0m\u001b[1;33m\u001b[0m\u001b[1;33m\u001b[0m\u001b[0m\n\u001b[1;32m----> 5\u001b[1;33m     \u001b[0mdoc_spacy\u001b[0m \u001b[1;33m=\u001b[0m \u001b[0men_nlp\u001b[0m\u001b[1;33m(\u001b[0m\u001b[0mdocument\u001b[0m\u001b[1;33m,\u001b[0m \u001b[0mentity\u001b[0m\u001b[1;33m=\u001b[0m\u001b[1;32mFalse\u001b[0m\u001b[1;33m,\u001b[0m \u001b[0mparse\u001b[0m\u001b[1;33m=\u001b[0m\u001b[1;32mFalse\u001b[0m\u001b[1;33m)\u001b[0m\u001b[1;33m\u001b[0m\u001b[1;33m\u001b[0m\u001b[0m\n\u001b[0m\u001b[0;32m      6\u001b[0m     \u001b[1;32mreturn\u001b[0m \u001b[1;33m[\u001b[0m\u001b[0mtoken\u001b[0m\u001b[1;33m.\u001b[0m\u001b[0mlemma_\u001b[0m \u001b[1;32mfor\u001b[0m \u001b[0mtoken\u001b[0m \u001b[1;32min\u001b[0m \u001b[0mdoc_spacy\u001b[0m\u001b[1;33m]\u001b[0m\u001b[1;33m\u001b[0m\u001b[1;33m\u001b[0m\u001b[0m\n\u001b[0;32m      7\u001b[0m \u001b[1;33m\u001b[0m\u001b[0m\n",
      "\u001b[1;31mTypeError\u001b[0m: __call__() got an unexpected keyword argument 'entity'"
     ]
    }
   ],
   "source": [
    "# transform text_train using CountVectorizer with lemmatization\n",
    "X_train_lemma = lemma_vect.fit_transform(text_train)\n",
    "print(\"X_train_lemma.shape: {}\".format(X_train_lemma.shape))\n",
    "\n",
    "# standard CountVectorizer for reference\n",
    "vect = CountVectorizer(min_df=5).fit(text_train)\n",
    "X_train = vect.transform(text_train)\n",
    "print(\"X_train.shape: {}\".format(X_train.shape))"
   ]
  },
  {
   "cell_type": "code",
   "execution_count": 17,
   "metadata": {},
   "outputs": [],
   "source": [
    "# defines a custom vectorizer class\n",
    "class CustomVectorizer(CountVectorizer): \n",
    "    \n",
    "    # overwrite the build_analyzer method, allowing one to\n",
    "    # create a custom analyzer for the vectorizer\n",
    "    def build_analyzer(self):\n",
    "        \n",
    "        # load stop words using CountVectorizer's built in method\n",
    "        stop_words = self.get_stop_words()\n",
    "        \n",
    "        # create the analyzer that will be returned by this method\n",
    "        def analyser(doc):\n",
    "            \n",
    "            # load spaCy's model for english language\n",
    "            #spacy.load('en')\n",
    "            en_nlp = spacy.load('en_core_web_sm')\n",
    "            tokens = en_nlp(doc, disable=['parser', 'ner'])\n",
    "            # instantiate a spaCy tokenizer\n",
    "            #lemmatizer = spacy.lang.en.English()\n",
    "            \n",
    "            # apply the tokenzation steps\n",
    "            #tokens = lemmatizer(doc)\n",
    "            lemmatized_tokens = [token.lemma_ for token in tokens]\n",
    "            \n",
    "            # use CountVectorizer's _word_ngrams built in method\n",
    "            # to remove stop words and extract n-grams\n",
    "            return(self._word_ngrams(lemmatized_tokens, stop_words))\n",
    "        return(analyser)\n",
    "    \n",
    "\n",
    "custom_vec = CustomVectorizer(ngram_range=(1,2), stop_words='english')"
   ]
  },
  {
   "cell_type": "code",
   "execution_count": null,
   "metadata": {},
   "outputs": [],
   "source": []
  },
  {
   "cell_type": "code",
   "execution_count": null,
   "metadata": {},
   "outputs": [],
   "source": []
  },
  {
   "cell_type": "code",
   "execution_count": null,
   "metadata": {},
   "outputs": [],
   "source": [
    "# ### Rescaling the Data with tf-idf\n",
    "#\n",
    "#Instead of dropping features that are deemed unimportant, another approach is to\n",
    "#rescale features by how informative we expect them to be\n",
    "## tf : time / document\n",
    "## df: hoow many docuemnts it appears \n",
    "## high = words that are repeated in one documents, but not that many in most document. \n",
    "## Some term will be repaeted in one document as it's important, but if repeated many time\n",
    "## in other documents, it's not that important. \n",
    "### weight = inverese document frequency \n",
    "\n",
    "from sklearn.feature_extraction.text import TfidfVectorizer \n",
    "#Because tf–idf actually makes use of the statistical properties of the training data, we\n",
    "# will use a pipeline\n",
    "from sklearn.pipeline import make_pipeline\n",
    "pipe = make_pipeline(TfidfVectorizer(min_df=5, norm=None), LogisticRegression())\n",
    "param_grid = {'logisticregression__C': [0.001, 0.01, 0.1, 1, 10]}\n",
    "grid = GridSearchCV(pipe, param_grid, cv=3, n_jobs=-1)\n",
    "grid.fit(text_train, y_train)\n",
    "print(\"Best cross-validation score: {:.2f}\".format(grid.best_score_))\n"
   ]
  },
  {
   "cell_type": "code",
   "execution_count": null,
   "metadata": {},
   "outputs": [],
   "source": [
    "# inspect which words tf–idf found most important\n",
    "vectorizer = grid.best_estimator_.named_steps[\"tfidfvectorizer\"]\n",
    "# transform the training dataset:\n",
    "X_train = vectorizer.transform(text_train)\n",
    "# find maximum value for each of the features over dataset:\n",
    "max_value = X_train.max(axis=0).toarray().ravel()\n",
    "sorted_by_tfidf = max_value.argsort()\n",
    "# get feature names\n",
    "feature_names = np.array(vectorizer.get_feature_names())\n",
    "print(\"Features with lowest tfidf:\\n{}\".format(feature_names[sorted_by_tfidf[:20]]))\n",
    "#either are very commonly used across documents\n",
    "#or are only used sparingly, and only in very long documents\n",
    "print(\"Features with highest tfidf: \\n{}\".format(feature_names[sorted_by_tfidf[-20:]]))\n",
    "# words that have low inverse document frequency—\n",
    "# those that appear frequently and are therefore deemed less important\n",
    "sorted_by_idf = np.argsort(vectorizer.idf_)\n",
    "print(\"Features with lowest idf:\\n{}\".format(feature_names[sorted_by_idf[:100]]))"
   ]
  }
 ],
 "metadata": {
  "kernelspec": {
   "display_name": "Python 3",
   "language": "python",
   "name": "python3"
  },
  "language_info": {
   "codemirror_mode": {
    "name": "ipython",
    "version": 3
   },
   "file_extension": ".py",
   "mimetype": "text/x-python",
   "name": "python",
   "nbconvert_exporter": "python",
   "pygments_lexer": "ipython3",
   "version": "3.7.3"
  }
 },
 "nbformat": 4,
 "nbformat_minor": 2
}
